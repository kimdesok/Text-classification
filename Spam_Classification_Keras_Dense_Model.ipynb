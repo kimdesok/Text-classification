{
  "cells": [
    {
      "cell_type": "markdown",
      "metadata": {
        "id": "view-in-github",
        "colab_type": "text"
      },
      "source": [
        "<a href=\"https://colab.research.google.com/github/kimdesok/Text-classification/blob/main/Spam_Classification_Keras_Dense_Model.ipynb\" target=\"_parent\"><img src=\"https://colab.research.google.com/assets/colab-badge.svg\" alt=\"Open In Colab\"/></a>"
      ]
    },
    {
      "cell_type": "code",
      "execution_count": 5,
      "metadata": {
        "_cell_guid": "b1076dfc-b9ad-4769-8c92-a6c4dae69d19",
        "_uuid": "8f2839f25d086af736a60e9eeb907d3b93b6e0e5",
        "tags": [],
        "colab": {
          "base_uri": "https://localhost:8080/"
        },
        "id": "jdM1TTtIQJqm",
        "outputId": "feb4112b-34db-4de7-d861-09b48588d340"
      },
      "outputs": [
        {
          "output_type": "stream",
          "name": "stdout",
          "text": [
            "2.11.0\n"
          ]
        }
      ],
      "source": [
        "# This Python 3 environment comes with many helpful analytics libraries installed\n",
        "# It is defined by the kaggle/python Docker image: https://github.com/kaggle/docker-python\n",
        "# For example, here's several helpful packages to load\n",
        "\n",
        "import numpy as np # linear algebra\n",
        "import pandas as pd # data processing, CSV file I/O (e.g. pd.read_csv)\n",
        "\n",
        "import tensorflow as tf\n",
        "print(tf.__version__)\n",
        "\n",
        "# Input data files are available in the read-only \"../input/\" directory\n",
        "# For example, running this (by clicking run or pressing Shift+Enter) will list all files under the input directory\n",
        "\n",
        "import os\n",
        "#DIR_PATH = r\"/home/ubuntu/Kaggle2/Data\"\n",
        "DIR_PATH = r\"/content/spam.csv\"\n",
        "# You can write up to 20GB to the current directory (/kaggle/working/) that gets preserved as output when you create a version using \"Save & Run All\" \n",
        "# You can also write temporary files to /kaggle/temp/, but they won't be saved outside of the current session"
      ]
    },
    {
      "cell_type": "code",
      "execution_count": 6,
      "metadata": {
        "tags": [],
        "colab": {
          "base_uri": "https://localhost:8080/",
          "height": 206
        },
        "id": "jdFliAYiQJqo",
        "outputId": "958ac752-62fd-4cb7-fb21-db381cd7531f"
      },
      "outputs": [
        {
          "output_type": "execute_result",
          "data": {
            "text/plain": [
              "     v1                                                 v2 Unnamed: 2  \\\n",
              "0   ham  Go until jurong point, crazy.. Available only ...        NaN   \n",
              "1   ham                      Ok lar... Joking wif u oni...        NaN   \n",
              "2  spam  Free entry in 2 a wkly comp to win FA Cup fina...        NaN   \n",
              "3   ham  U dun say so early hor... U c already then say...        NaN   \n",
              "4   ham  Nah I don't think he goes to usf, he lives aro...        NaN   \n",
              "\n",
              "  Unnamed: 3 Unnamed: 4  \n",
              "0        NaN        NaN  \n",
              "1        NaN        NaN  \n",
              "2        NaN        NaN  \n",
              "3        NaN        NaN  \n",
              "4        NaN        NaN  "
            ],
            "text/html": [
              "\n",
              "  <div id=\"df-e13fc0c1-f9c9-4a2b-926f-eff5cccdc513\">\n",
              "    <div class=\"colab-df-container\">\n",
              "      <div>\n",
              "<style scoped>\n",
              "    .dataframe tbody tr th:only-of-type {\n",
              "        vertical-align: middle;\n",
              "    }\n",
              "\n",
              "    .dataframe tbody tr th {\n",
              "        vertical-align: top;\n",
              "    }\n",
              "\n",
              "    .dataframe thead th {\n",
              "        text-align: right;\n",
              "    }\n",
              "</style>\n",
              "<table border=\"1\" class=\"dataframe\">\n",
              "  <thead>\n",
              "    <tr style=\"text-align: right;\">\n",
              "      <th></th>\n",
              "      <th>v1</th>\n",
              "      <th>v2</th>\n",
              "      <th>Unnamed: 2</th>\n",
              "      <th>Unnamed: 3</th>\n",
              "      <th>Unnamed: 4</th>\n",
              "    </tr>\n",
              "  </thead>\n",
              "  <tbody>\n",
              "    <tr>\n",
              "      <th>0</th>\n",
              "      <td>ham</td>\n",
              "      <td>Go until jurong point, crazy.. Available only ...</td>\n",
              "      <td>NaN</td>\n",
              "      <td>NaN</td>\n",
              "      <td>NaN</td>\n",
              "    </tr>\n",
              "    <tr>\n",
              "      <th>1</th>\n",
              "      <td>ham</td>\n",
              "      <td>Ok lar... Joking wif u oni...</td>\n",
              "      <td>NaN</td>\n",
              "      <td>NaN</td>\n",
              "      <td>NaN</td>\n",
              "    </tr>\n",
              "    <tr>\n",
              "      <th>2</th>\n",
              "      <td>spam</td>\n",
              "      <td>Free entry in 2 a wkly comp to win FA Cup fina...</td>\n",
              "      <td>NaN</td>\n",
              "      <td>NaN</td>\n",
              "      <td>NaN</td>\n",
              "    </tr>\n",
              "    <tr>\n",
              "      <th>3</th>\n",
              "      <td>ham</td>\n",
              "      <td>U dun say so early hor... U c already then say...</td>\n",
              "      <td>NaN</td>\n",
              "      <td>NaN</td>\n",
              "      <td>NaN</td>\n",
              "    </tr>\n",
              "    <tr>\n",
              "      <th>4</th>\n",
              "      <td>ham</td>\n",
              "      <td>Nah I don't think he goes to usf, he lives aro...</td>\n",
              "      <td>NaN</td>\n",
              "      <td>NaN</td>\n",
              "      <td>NaN</td>\n",
              "    </tr>\n",
              "  </tbody>\n",
              "</table>\n",
              "</div>\n",
              "      <button class=\"colab-df-convert\" onclick=\"convertToInteractive('df-e13fc0c1-f9c9-4a2b-926f-eff5cccdc513')\"\n",
              "              title=\"Convert this dataframe to an interactive table.\"\n",
              "              style=\"display:none;\">\n",
              "        \n",
              "  <svg xmlns=\"http://www.w3.org/2000/svg\" height=\"24px\"viewBox=\"0 0 24 24\"\n",
              "       width=\"24px\">\n",
              "    <path d=\"M0 0h24v24H0V0z\" fill=\"none\"/>\n",
              "    <path d=\"M18.56 5.44l.94 2.06.94-2.06 2.06-.94-2.06-.94-.94-2.06-.94 2.06-2.06.94zm-11 1L8.5 8.5l.94-2.06 2.06-.94-2.06-.94L8.5 2.5l-.94 2.06-2.06.94zm10 10l.94 2.06.94-2.06 2.06-.94-2.06-.94-.94-2.06-.94 2.06-2.06.94z\"/><path d=\"M17.41 7.96l-1.37-1.37c-.4-.4-.92-.59-1.43-.59-.52 0-1.04.2-1.43.59L10.3 9.45l-7.72 7.72c-.78.78-.78 2.05 0 2.83L4 21.41c.39.39.9.59 1.41.59.51 0 1.02-.2 1.41-.59l7.78-7.78 2.81-2.81c.8-.78.8-2.07 0-2.86zM5.41 20L4 18.59l7.72-7.72 1.47 1.35L5.41 20z\"/>\n",
              "  </svg>\n",
              "      </button>\n",
              "      \n",
              "  <style>\n",
              "    .colab-df-container {\n",
              "      display:flex;\n",
              "      flex-wrap:wrap;\n",
              "      gap: 12px;\n",
              "    }\n",
              "\n",
              "    .colab-df-convert {\n",
              "      background-color: #E8F0FE;\n",
              "      border: none;\n",
              "      border-radius: 50%;\n",
              "      cursor: pointer;\n",
              "      display: none;\n",
              "      fill: #1967D2;\n",
              "      height: 32px;\n",
              "      padding: 0 0 0 0;\n",
              "      width: 32px;\n",
              "    }\n",
              "\n",
              "    .colab-df-convert:hover {\n",
              "      background-color: #E2EBFA;\n",
              "      box-shadow: 0px 1px 2px rgba(60, 64, 67, 0.3), 0px 1px 3px 1px rgba(60, 64, 67, 0.15);\n",
              "      fill: #174EA6;\n",
              "    }\n",
              "\n",
              "    [theme=dark] .colab-df-convert {\n",
              "      background-color: #3B4455;\n",
              "      fill: #D2E3FC;\n",
              "    }\n",
              "\n",
              "    [theme=dark] .colab-df-convert:hover {\n",
              "      background-color: #434B5C;\n",
              "      box-shadow: 0px 1px 3px 1px rgba(0, 0, 0, 0.15);\n",
              "      filter: drop-shadow(0px 1px 2px rgba(0, 0, 0, 0.3));\n",
              "      fill: #FFFFFF;\n",
              "    }\n",
              "  </style>\n",
              "\n",
              "      <script>\n",
              "        const buttonEl =\n",
              "          document.querySelector('#df-e13fc0c1-f9c9-4a2b-926f-eff5cccdc513 button.colab-df-convert');\n",
              "        buttonEl.style.display =\n",
              "          google.colab.kernel.accessAllowed ? 'block' : 'none';\n",
              "\n",
              "        async function convertToInteractive(key) {\n",
              "          const element = document.querySelector('#df-e13fc0c1-f9c9-4a2b-926f-eff5cccdc513');\n",
              "          const dataTable =\n",
              "            await google.colab.kernel.invokeFunction('convertToInteractive',\n",
              "                                                     [key], {});\n",
              "          if (!dataTable) return;\n",
              "\n",
              "          const docLinkHtml = 'Like what you see? Visit the ' +\n",
              "            '<a target=\"_blank\" href=https://colab.research.google.com/notebooks/data_table.ipynb>data table notebook</a>'\n",
              "            + ' to learn more about interactive tables.';\n",
              "          element.innerHTML = '';\n",
              "          dataTable['output_type'] = 'display_data';\n",
              "          await google.colab.output.renderOutput(dataTable, element);\n",
              "          const docLink = document.createElement('div');\n",
              "          docLink.innerHTML = docLinkHtml;\n",
              "          element.appendChild(docLink);\n",
              "        }\n",
              "      </script>\n",
              "    </div>\n",
              "  </div>\n",
              "  "
            ]
          },
          "metadata": {},
          "execution_count": 6
        }
      ],
      "source": [
        "# Read the data \n",
        "df = pd.read_csv(DIR_PATH, encoding=\"latin-1\")\n",
        "df.head()"
      ]
    },
    {
      "cell_type": "code",
      "execution_count": null,
      "metadata": {
        "tags": [],
        "id": "dQ9bmu9oQJqo",
        "outputId": "b259ce3f-e8ef-4fca-cec1-740f5b0e82b1"
      },
      "outputs": [
        {
          "data": {
            "text/html": [
              "<div>\n",
              "<style scoped>\n",
              "    .dataframe tbody tr th:only-of-type {\n",
              "        vertical-align: middle;\n",
              "    }\n",
              "\n",
              "    .dataframe tbody tr th {\n",
              "        vertical-align: top;\n",
              "    }\n",
              "\n",
              "    .dataframe thead th {\n",
              "        text-align: right;\n",
              "    }\n",
              "</style>\n",
              "<table border=\"1\" class=\"dataframe\">\n",
              "  <thead>\n",
              "    <tr style=\"text-align: right;\">\n",
              "      <th></th>\n",
              "      <th>v1</th>\n",
              "      <th>v2</th>\n",
              "      <th>Unnamed: 2</th>\n",
              "      <th>Unnamed: 3</th>\n",
              "      <th>Unnamed: 4</th>\n",
              "    </tr>\n",
              "  </thead>\n",
              "  <tbody>\n",
              "    <tr>\n",
              "      <th>3245</th>\n",
              "      <td>ham</td>\n",
              "      <td>Funny fact Nobody teaches volcanoes 2 erupt, t...</td>\n",
              "      <td>NaN</td>\n",
              "      <td>NaN</td>\n",
              "      <td>NaN</td>\n",
              "    </tr>\n",
              "    <tr>\n",
              "      <th>944</th>\n",
              "      <td>ham</td>\n",
              "      <td>I sent my scores to sophas and i had to do sec...</td>\n",
              "      <td>NaN</td>\n",
              "      <td>NaN</td>\n",
              "      <td>NaN</td>\n",
              "    </tr>\n",
              "    <tr>\n",
              "      <th>1044</th>\n",
              "      <td>spam</td>\n",
              "      <td>We know someone who you know that fancies you....</td>\n",
              "      <td>NaN</td>\n",
              "      <td>NaN</td>\n",
              "      <td>NaN</td>\n",
              "    </tr>\n",
              "    <tr>\n",
              "      <th>2484</th>\n",
              "      <td>ham</td>\n",
              "      <td>Only if you promise your getting out as SOON a...</td>\n",
              "      <td>NaN</td>\n",
              "      <td>NaN</td>\n",
              "      <td>NaN</td>\n",
              "    </tr>\n",
              "    <tr>\n",
              "      <th>812</th>\n",
              "      <td>spam</td>\n",
              "      <td>Congratulations ur awarded either å£500 of CD ...</td>\n",
              "      <td>NaN</td>\n",
              "      <td>NaN</td>\n",
              "      <td>NaN</td>\n",
              "    </tr>\n",
              "  </tbody>\n",
              "</table>\n",
              "</div>"
            ],
            "text/plain": [
              "        v1                                                 v2 Unnamed: 2  \\\n",
              "3245   ham  Funny fact Nobody teaches volcanoes 2 erupt, t...        NaN   \n",
              "944    ham  I sent my scores to sophas and i had to do sec...        NaN   \n",
              "1044  spam  We know someone who you know that fancies you....        NaN   \n",
              "2484   ham  Only if you promise your getting out as SOON a...        NaN   \n",
              "812   spam  Congratulations ur awarded either å£500 of CD ...        NaN   \n",
              "\n",
              "     Unnamed: 3 Unnamed: 4  \n",
              "3245        NaN        NaN  \n",
              "944         NaN        NaN  \n",
              "1044        NaN        NaN  \n",
              "2484        NaN        NaN  \n",
              "812         NaN        NaN  "
            ]
          },
          "execution_count": 3,
          "metadata": {},
          "output_type": "execute_result"
        }
      ],
      "source": [
        "# Shuffled the data again to be sure\n",
        "df_shuffled = df.sample(frac=1, random_state=42)\n",
        "df_shuffled.head()"
      ]
    },
    {
      "cell_type": "code",
      "execution_count": null,
      "metadata": {
        "tags": [],
        "id": "QNCk9-PsQJqo",
        "outputId": "25bff75b-443a-4a5f-ecd8-d45afd4b70c4"
      },
      "outputs": [
        {
          "data": {
            "text/html": [
              "<div>\n",
              "<style scoped>\n",
              "    .dataframe tbody tr th:only-of-type {\n",
              "        vertical-align: middle;\n",
              "    }\n",
              "\n",
              "    .dataframe tbody tr th {\n",
              "        vertical-align: top;\n",
              "    }\n",
              "\n",
              "    .dataframe thead th {\n",
              "        text-align: right;\n",
              "    }\n",
              "</style>\n",
              "<table border=\"1\" class=\"dataframe\">\n",
              "  <thead>\n",
              "    <tr style=\"text-align: right;\">\n",
              "      <th></th>\n",
              "      <th>v1</th>\n",
              "      <th>v2</th>\n",
              "      <th>Unnamed: 2</th>\n",
              "      <th>Unnamed: 3</th>\n",
              "      <th>Unnamed: 4</th>\n",
              "      <th>text</th>\n",
              "      <th>target</th>\n",
              "    </tr>\n",
              "  </thead>\n",
              "  <tbody>\n",
              "    <tr>\n",
              "      <th>3245</th>\n",
              "      <td>ham</td>\n",
              "      <td>Funny fact Nobody teaches volcanoes 2 erupt, t...</td>\n",
              "      <td>NaN</td>\n",
              "      <td>NaN</td>\n",
              "      <td>NaN</td>\n",
              "      <td>Funny fact Nobody teaches volcanoes 2 erupt, t...</td>\n",
              "      <td>0</td>\n",
              "    </tr>\n",
              "    <tr>\n",
              "      <th>944</th>\n",
              "      <td>ham</td>\n",
              "      <td>I sent my scores to sophas and i had to do sec...</td>\n",
              "      <td>NaN</td>\n",
              "      <td>NaN</td>\n",
              "      <td>NaN</td>\n",
              "      <td>I sent my scores to sophas and i had to do sec...</td>\n",
              "      <td>0</td>\n",
              "    </tr>\n",
              "    <tr>\n",
              "      <th>1044</th>\n",
              "      <td>spam</td>\n",
              "      <td>We know someone who you know that fancies you....</td>\n",
              "      <td>NaN</td>\n",
              "      <td>NaN</td>\n",
              "      <td>NaN</td>\n",
              "      <td>We know someone who you know that fancies you....</td>\n",
              "      <td>1</td>\n",
              "    </tr>\n",
              "    <tr>\n",
              "      <th>2484</th>\n",
              "      <td>ham</td>\n",
              "      <td>Only if you promise your getting out as SOON a...</td>\n",
              "      <td>NaN</td>\n",
              "      <td>NaN</td>\n",
              "      <td>NaN</td>\n",
              "      <td>Only if you promise your getting out as SOON a...</td>\n",
              "      <td>0</td>\n",
              "    </tr>\n",
              "    <tr>\n",
              "      <th>812</th>\n",
              "      <td>spam</td>\n",
              "      <td>Congratulations ur awarded either å£500 of CD ...</td>\n",
              "      <td>NaN</td>\n",
              "      <td>NaN</td>\n",
              "      <td>NaN</td>\n",
              "      <td>Congratulations ur awarded either å£500 of CD ...</td>\n",
              "      <td>1</td>\n",
              "    </tr>\n",
              "  </tbody>\n",
              "</table>\n",
              "</div>"
            ],
            "text/plain": [
              "        v1                                                 v2 Unnamed: 2  \\\n",
              "3245   ham  Funny fact Nobody teaches volcanoes 2 erupt, t...        NaN   \n",
              "944    ham  I sent my scores to sophas and i had to do sec...        NaN   \n",
              "1044  spam  We know someone who you know that fancies you....        NaN   \n",
              "2484   ham  Only if you promise your getting out as SOON a...        NaN   \n",
              "812   spam  Congratulations ur awarded either å£500 of CD ...        NaN   \n",
              "\n",
              "     Unnamed: 3 Unnamed: 4                                               text  \\\n",
              "3245        NaN        NaN  Funny fact Nobody teaches volcanoes 2 erupt, t...   \n",
              "944         NaN        NaN  I sent my scores to sophas and i had to do sec...   \n",
              "1044        NaN        NaN  We know someone who you know that fancies you....   \n",
              "2484        NaN        NaN  Only if you promise your getting out as SOON a...   \n",
              "812         NaN        NaN  Congratulations ur awarded either å£500 of CD ...   \n",
              "\n",
              "      target  \n",
              "3245       0  \n",
              "944        0  \n",
              "1044       1  \n",
              "2484       0  \n",
              "812        1  "
            ]
          },
          "execution_count": 4,
          "metadata": {},
          "output_type": "execute_result"
        }
      ],
      "source": [
        "df_shuffled[\"text\"] = df_shuffled[\"v2\"]\n",
        "df_shuffled['target'] = df_shuffled['v1'].map({'ham': 0, 'spam': 1})\n",
        "df_shuffled.head()"
      ]
    },
    {
      "cell_type": "code",
      "execution_count": null,
      "metadata": {
        "tags": [],
        "id": "swkJHl-JQJqp",
        "outputId": "30a1492f-91ae-45ad-d863-4ffbfea04cf9"
      },
      "outputs": [
        {
          "data": {
            "text/plain": [
              "0    4825\n",
              "1     747\n",
              "Name: target, dtype: int64"
            ]
          },
          "execution_count": 5,
          "metadata": {},
          "output_type": "execute_result"
        }
      ],
      "source": [
        "# How many examples of each class?\n",
        "df_shuffled.target.value_counts()"
      ]
    },
    {
      "cell_type": "code",
      "execution_count": null,
      "metadata": {
        "tags": [],
        "id": "5M-TAETtQJqp",
        "outputId": "949bbce6-a67f-4e0f-eaf7-6dc30867e5bb"
      },
      "outputs": [
        {
          "name": "stdout",
          "output_type": "stream",
          "text": [
            "Total samples: 5572\n"
          ]
        }
      ],
      "source": [
        "# How many samples?\n",
        "print(f\"Total samples: {len(df_shuffled)}\")"
      ]
    },
    {
      "cell_type": "code",
      "execution_count": null,
      "metadata": {
        "tags": [],
        "id": "2NSpYw6uQJqp",
        "outputId": "52af126a-fb26-451d-dbf5-b8e0a1440320"
      },
      "outputs": [
        {
          "name": "stdout",
          "output_type": "stream",
          "text": [
            "Target: 0 (not spam)\n",
            "Text:\n",
            "Really good:)dhanush rocks once again:)\n",
            "\n",
            "---\n",
            "\n",
            "Target: 0 (not spam)\n",
            "Text:\n",
            "I will be outside office take all from there\n",
            "\n",
            "---\n",
            "\n",
            "Target: 0 (not spam)\n",
            "Text:\n",
            "Thanx 4 e brownie it's v nice...\n",
            "\n",
            "---\n",
            "\n",
            "Target: 0 (not spam)\n",
            "Text:\n",
            "Cool, I'll text you when I'm on the way\n",
            "\n",
            "---\n",
            "\n",
            "Target: 0 (not spam)\n",
            "Text:\n",
            "Oh you got many responsibilities.\n",
            "\n",
            "---\n",
            "\n",
            "Target: 1 (spam)\n",
            "Text:\n",
            "Hello from Orange. For 1 month's free access to games, news and sport, plus 10 free texts and 20 photo messages, reply YES. Terms apply: www.orange.co.uk/ow\n",
            "\n",
            "---\n",
            "\n",
            "Target: 0 (not spam)\n",
            "Text:\n",
            "Wow didn't think it was that common. I take it all back ur not a freak! Unless u chop it off:-)\n",
            "\n",
            "---\n",
            "\n",
            "Target: 0 (not spam)\n",
            "Text:\n",
            "Its sunny in california. The weather's just cool\n",
            "\n",
            "---\n",
            "\n",
            "Target: 0 (not spam)\n",
            "Text:\n",
            "I jus hope its true that  missin me cos i'm really missin him! You haven't done anything to feel guilty about, yet.\n",
            "\n",
            "---\n",
            "\n",
            "Target: 0 (not spam)\n",
            "Text:\n",
            "It wont b until 2.15 as trying 2 sort house out, is that ok?\n",
            "\n",
            "---\n",
            "\n"
          ]
        }
      ],
      "source": [
        "# Visualize some random example\n",
        "import random\n",
        "rand_index = random.randint(0, len(df_shuffled)-10)\n",
        "for row in df_shuffled[[\"text\",\"target\"]][rand_index:rand_index+10].itertuples():\n",
        "    _,text,target = row\n",
        "    print(f\"Target: {target}\", \"(spam)\" if target > 0 else \"(not spam)\")\n",
        "    print(f\"Text:\\n{text}\\n\")\n",
        "    print(\"---\\n\")"
      ]
    },
    {
      "cell_type": "code",
      "execution_count": null,
      "metadata": {
        "tags": [],
        "id": "yC9EgQN_QJqp"
      },
      "outputs": [],
      "source": [
        "# Let's create train and test split\n",
        "from sklearn.model_selection import train_test_split\n",
        "X_train_sentences, X_val_sentences, y_train_labels, y_val_labels = train_test_split(df_shuffled[\"text\"].to_numpy(),\n",
        "                                                                            df_shuffled[\"target\"].to_numpy(),\n",
        "                                                                            test_size=0.2,\n",
        "                                                                            random_state=42)"
      ]
    },
    {
      "cell_type": "code",
      "execution_count": null,
      "metadata": {
        "tags": [],
        "id": "ju6xBC2UQJqq"
      },
      "outputs": [],
      "source": [
        "#print(type(df_shuffled[\"text\"]), type(df_shuffled[\"text\"].to_numpy()))"
      ]
    },
    {
      "cell_type": "code",
      "execution_count": null,
      "metadata": {
        "tags": [],
        "id": "-_5sai-MQJqq",
        "outputId": "a37d9718-400c-4dde-b0c7-431759452ed2"
      },
      "outputs": [
        {
          "data": {
            "text/plain": [
              "(4457, 4457, 1115, 1115)"
            ]
          },
          "execution_count": 10,
          "metadata": {},
          "output_type": "execute_result"
        }
      ],
      "source": [
        "#### Check the lengths\n",
        "len(X_train_sentences), len(y_train_labels), len(X_val_sentences), len(y_val_labels)"
      ]
    },
    {
      "cell_type": "code",
      "execution_count": null,
      "metadata": {
        "tags": [],
        "id": "q4wbUOKtQJqq",
        "outputId": "7fc6a835-406d-4212-cbbf-8165768e5ccb"
      },
      "outputs": [
        {
          "data": {
            "text/plain": [
              "(array(['from www.Applausestore.com MonthlySubscription@50p/msg max6/month T&CsC web age16 2stop txt stop',\n",
              "        'Ranjith cal drpd Deeraj and deepak 5min hold',\n",
              "        'I cant pick the phone right now. Pls send a message',\n",
              "        'New Mobiles from 2004, MUST GO! Txt: NOKIA to No: 89545 & collect yours today! From ONLY å£1. www.4-tc.biz 2optout 087187262701.50gbp/mtmsg18 TXTAUCTION.',\n",
              "        \"Honestly i've just made a lovely cup of tea and promptly dropped my keys in it and then burnt my fingers getting them out!\"],\n",
              "       dtype=object),\n",
              " array([1, 0, 0, 1, 0]))"
            ]
          },
          "execution_count": 11,
          "metadata": {},
          "output_type": "execute_result"
        }
      ],
      "source": [
        "# View first 5 training and their label sentences :\n",
        "X_train_sentences[:5], y_train_labels[:5]"
      ]
    },
    {
      "cell_type": "code",
      "execution_count": null,
      "metadata": {
        "tags": [],
        "id": "zwMa6yy8QJqq",
        "outputId": "f8fb9b6b-1fa1-40c6-dfee-d9f98f36ca53"
      },
      "outputs": [
        {
          "name": "stderr",
          "output_type": "stream",
          "text": [
            "2023-02-24 21:33:18.732771: I tensorflow/stream_executor/cuda/cuda_gpu_executor.cc:936] successful NUMA node read from SysFS had negative value (-1), but there must be at least one NUMA node, so returning NUMA node zero\n",
            "2023-02-24 21:33:18.736370: I tensorflow/stream_executor/cuda/cuda_gpu_executor.cc:936] successful NUMA node read from SysFS had negative value (-1), but there must be at least one NUMA node, so returning NUMA node zero\n",
            "2023-02-24 21:33:18.740032: I tensorflow/stream_executor/cuda/cuda_gpu_executor.cc:936] successful NUMA node read from SysFS had negative value (-1), but there must be at least one NUMA node, so returning NUMA node zero\n",
            "2023-02-24 21:33:18.743595: I tensorflow/stream_executor/cuda/cuda_gpu_executor.cc:936] successful NUMA node read from SysFS had negative value (-1), but there must be at least one NUMA node, so returning NUMA node zero\n",
            "2023-02-24 21:33:18.896074: I tensorflow/stream_executor/cuda/cuda_gpu_executor.cc:936] successful NUMA node read from SysFS had negative value (-1), but there must be at least one NUMA node, so returning NUMA node zero\n",
            "2023-02-24 21:33:18.899422: I tensorflow/stream_executor/cuda/cuda_gpu_executor.cc:936] successful NUMA node read from SysFS had negative value (-1), but there must be at least one NUMA node, so returning NUMA node zero\n",
            "2023-02-24 21:33:18.902936: I tensorflow/stream_executor/cuda/cuda_gpu_executor.cc:936] successful NUMA node read from SysFS had negative value (-1), but there must be at least one NUMA node, so returning NUMA node zero\n",
            "2023-02-24 21:33:18.906333: I tensorflow/stream_executor/cuda/cuda_gpu_executor.cc:936] successful NUMA node read from SysFS had negative value (-1), but there must be at least one NUMA node, so returning NUMA node zero\n",
            "2023-02-24 21:33:18.909709: I tensorflow/stream_executor/cuda/cuda_gpu_executor.cc:936] successful NUMA node read from SysFS had negative value (-1), but there must be at least one NUMA node, so returning NUMA node zero\n",
            "2023-02-24 21:33:18.912805: I tensorflow/stream_executor/cuda/cuda_gpu_executor.cc:936] successful NUMA node read from SysFS had negative value (-1), but there must be at least one NUMA node, so returning NUMA node zero\n",
            "2023-02-24 21:33:18.916171: I tensorflow/stream_executor/cuda/cuda_gpu_executor.cc:936] successful NUMA node read from SysFS had negative value (-1), but there must be at least one NUMA node, so returning NUMA node zero\n",
            "2023-02-24 21:33:18.919336: I tensorflow/stream_executor/cuda/cuda_gpu_executor.cc:936] successful NUMA node read from SysFS had negative value (-1), but there must be at least one NUMA node, so returning NUMA node zero\n",
            "2023-02-24 21:33:18.924109: I tensorflow/core/platform/cpu_feature_guard.cc:151] This TensorFlow binary is optimized with oneAPI Deep Neural Network Library (oneDNN) to use the following CPU instructions in performance-critical operations:  AVX2 FMA\n",
            "To enable them in other operations, rebuild TensorFlow with the appropriate compiler flags.\n",
            "2023-02-24 21:33:20.502151: I tensorflow/stream_executor/cuda/cuda_gpu_executor.cc:936] successful NUMA node read from SysFS had negative value (-1), but there must be at least one NUMA node, so returning NUMA node zero\n",
            "2023-02-24 21:33:20.504058: I tensorflow/stream_executor/cuda/cuda_gpu_executor.cc:936] successful NUMA node read from SysFS had negative value (-1), but there must be at least one NUMA node, so returning NUMA node zero\n",
            "2023-02-24 21:33:20.506077: I tensorflow/stream_executor/cuda/cuda_gpu_executor.cc:936] successful NUMA node read from SysFS had negative value (-1), but there must be at least one NUMA node, so returning NUMA node zero\n",
            "2023-02-24 21:33:20.507984: I tensorflow/stream_executor/cuda/cuda_gpu_executor.cc:936] successful NUMA node read from SysFS had negative value (-1), but there must be at least one NUMA node, so returning NUMA node zero\n",
            "2023-02-24 21:33:20.509842: I tensorflow/stream_executor/cuda/cuda_gpu_executor.cc:936] successful NUMA node read from SysFS had negative value (-1), but there must be at least one NUMA node, so returning NUMA node zero\n",
            "2023-02-24 21:33:20.511644: I tensorflow/stream_executor/cuda/cuda_gpu_executor.cc:936] successful NUMA node read from SysFS had negative value (-1), but there must be at least one NUMA node, so returning NUMA node zero\n",
            "2023-02-24 21:33:20.513537: I tensorflow/stream_executor/cuda/cuda_gpu_executor.cc:936] successful NUMA node read from SysFS had negative value (-1), but there must be at least one NUMA node, so returning NUMA node zero\n",
            "2023-02-24 21:33:20.515253: I tensorflow/stream_executor/cuda/cuda_gpu_executor.cc:936] successful NUMA node read from SysFS had negative value (-1), but there must be at least one NUMA node, so returning NUMA node zero\n",
            "2023-02-24 21:33:20.517013: I tensorflow/stream_executor/cuda/cuda_gpu_executor.cc:936] successful NUMA node read from SysFS had negative value (-1), but there must be at least one NUMA node, so returning NUMA node zero\n",
            "2023-02-24 21:33:20.518798: I tensorflow/stream_executor/cuda/cuda_gpu_executor.cc:936] successful NUMA node read from SysFS had negative value (-1), but there must be at least one NUMA node, so returning NUMA node zero\n",
            "2023-02-24 21:33:20.520611: I tensorflow/stream_executor/cuda/cuda_gpu_executor.cc:936] successful NUMA node read from SysFS had negative value (-1), but there must be at least one NUMA node, so returning NUMA node zero\n",
            "2023-02-24 21:33:20.522310: I tensorflow/stream_executor/cuda/cuda_gpu_executor.cc:936] successful NUMA node read from SysFS had negative value (-1), but there must be at least one NUMA node, so returning NUMA node zero\n",
            "2023-02-24 21:33:23.353196: I tensorflow/stream_executor/cuda/cuda_gpu_executor.cc:936] successful NUMA node read from SysFS had negative value (-1), but there must be at least one NUMA node, so returning NUMA node zero\n",
            "2023-02-24 21:33:23.355216: I tensorflow/stream_executor/cuda/cuda_gpu_executor.cc:936] successful NUMA node read from SysFS had negative value (-1), but there must be at least one NUMA node, so returning NUMA node zero\n",
            "2023-02-24 21:33:23.357244: I tensorflow/stream_executor/cuda/cuda_gpu_executor.cc:936] successful NUMA node read from SysFS had negative value (-1), but there must be at least one NUMA node, so returning NUMA node zero\n",
            "2023-02-24 21:33:23.359166: I tensorflow/stream_executor/cuda/cuda_gpu_executor.cc:936] successful NUMA node read from SysFS had negative value (-1), but there must be at least one NUMA node, so returning NUMA node zero\n",
            "2023-02-24 21:33:23.361110: I tensorflow/stream_executor/cuda/cuda_gpu_executor.cc:936] successful NUMA node read from SysFS had negative value (-1), but there must be at least one NUMA node, so returning NUMA node zero\n",
            "2023-02-24 21:33:23.362822: I tensorflow/stream_executor/cuda/cuda_gpu_executor.cc:936] successful NUMA node read from SysFS had negative value (-1), but there must be at least one NUMA node, so returning NUMA node zero\n",
            "2023-02-24 21:33:23.364614: I tensorflow/stream_executor/cuda/cuda_gpu_executor.cc:936] successful NUMA node read from SysFS had negative value (-1), but there must be at least one NUMA node, so returning NUMA node zero\n",
            "2023-02-24 21:33:23.366291: I tensorflow/stream_executor/cuda/cuda_gpu_executor.cc:936] successful NUMA node read from SysFS had negative value (-1), but there must be at least one NUMA node, so returning NUMA node zero\n",
            "2023-02-24 21:33:23.368030: I tensorflow/stream_executor/cuda/cuda_gpu_executor.cc:936] successful NUMA node read from SysFS had negative value (-1), but there must be at least one NUMA node, so returning NUMA node zero\n",
            "2023-02-24 21:33:23.369853: I tensorflow/core/common_runtime/gpu/gpu_device.cc:1525] Created device /job:localhost/replica:0/task:0/device:GPU:0 with 13643 MB memory:  -> device: 0, name: Tesla T4, pci bus id: 0000:00:06.0, compute capability: 7.5\n",
            "2023-02-24 21:33:23.370629: I tensorflow/stream_executor/cuda/cuda_gpu_executor.cc:936] successful NUMA node read from SysFS had negative value (-1), but there must be at least one NUMA node, so returning NUMA node zero\n",
            "2023-02-24 21:33:23.372426: I tensorflow/core/common_runtime/gpu/gpu_device.cc:1525] Created device /job:localhost/replica:0/task:0/device:GPU:1 with 13643 MB memory:  -> device: 1, name: Tesla T4, pci bus id: 0000:00:07.0, compute capability: 7.5\n",
            "2023-02-24 21:33:23.372979: I tensorflow/stream_executor/cuda/cuda_gpu_executor.cc:936] successful NUMA node read from SysFS had negative value (-1), but there must be at least one NUMA node, so returning NUMA node zero\n",
            "2023-02-24 21:33:23.374664: I tensorflow/core/common_runtime/gpu/gpu_device.cc:1525] Created device /job:localhost/replica:0/task:0/device:GPU:2 with 13643 MB memory:  -> device: 2, name: Tesla T4, pci bus id: 0000:00:08.0, compute capability: 7.5\n",
            "2023-02-24 21:33:23.375199: I tensorflow/stream_executor/cuda/cuda_gpu_executor.cc:936] successful NUMA node read from SysFS had negative value (-1), but there must be at least one NUMA node, so returning NUMA node zero\n",
            "2023-02-24 21:33:23.376926: I tensorflow/core/common_runtime/gpu/gpu_device.cc:1525] Created device /job:localhost/replica:0/task:0/device:GPU:3 with 13643 MB memory:  -> device: 3, name: Tesla T4, pci bus id: 0000:00:09.0, compute capability: 7.5\n"
          ]
        }
      ],
      "source": [
        "# Text Vectorization\n",
        "text_vectorizer = tf.keras.layers.TextVectorization(max_tokens=None,\n",
        "                                                    standardize='lower_and_strip_punctuation',\n",
        "                                                    split='whitespace',\n",
        "                                                    ngrams=None,\n",
        "                                                    output_mode='int',\n",
        "                                                    output_sequence_length=None,\n",
        "                                                    )"
      ]
    },
    {
      "cell_type": "code",
      "execution_count": null,
      "metadata": {
        "tags": [],
        "id": "sgsOmdPlQJqr",
        "outputId": "2ae9702b-5739-4206-accb-1f4b8dd23790"
      },
      "outputs": [
        {
          "data": {
            "text/plain": [
              "<keras.layers.preprocessing.text_vectorization.TextVectorization at 0x7f20e283a700>"
            ]
          },
          "execution_count": 13,
          "metadata": {},
          "output_type": "execute_result"
        }
      ],
      "source": [
        "text_vectorizer"
      ]
    },
    {
      "cell_type": "code",
      "execution_count": null,
      "metadata": {
        "tags": [],
        "id": "2p72yjU4QJqr",
        "outputId": "8b60b8f4-38f5-467f-b0c2-b11ca639af39"
      },
      "outputs": [
        {
          "data": {
            "text/plain": [
              "16"
            ]
          },
          "execution_count": 14,
          "metadata": {},
          "output_type": "execute_result"
        }
      ],
      "source": [
        "# Finding average number of words or token\n",
        "round(sum([len(i.split()) for i in X_train_sentences])/len(X_train_sentences))"
      ]
    },
    {
      "cell_type": "code",
      "execution_count": null,
      "metadata": {
        "tags": [],
        "id": "i_O1ZGQ8QJqr"
      },
      "outputs": [],
      "source": [
        "max_vocab_length = 9000\n",
        "max_length = 16\n",
        "\n",
        "text_vectorizer=tf.keras.layers.TextVectorization(max_tokens=max_vocab_length,\n",
        "                                                  output_mode=\"int\",\n",
        "                                                  output_sequence_length=max_length)"
      ]
    },
    {
      "cell_type": "code",
      "execution_count": null,
      "metadata": {
        "tags": [],
        "id": "iX0uWqW2QJqr"
      },
      "outputs": [],
      "source": [
        "# Fit the text vectorizer to the training text\n",
        "text_vectorizer.adapt(X_train_sentences)"
      ]
    },
    {
      "cell_type": "code",
      "execution_count": null,
      "metadata": {
        "tags": [],
        "id": "lAQbILVSQJqr",
        "outputId": "e79ada90-000c-48fa-d236-51c6e0e78384"
      },
      "outputs": [
        {
          "name": "stdout",
          "output_type": "stream",
          "text": [
            "Original text:\n",
            "Wot about on wed nite I am 3 then but only til 9!      \n",
            "\n",
            "Vectorized version:\n"
          ]
        },
        {
          "data": {
            "text/plain": [
              "<tf.Tensor: shape=(1, 16), dtype=int64, numpy=\n",
              "array([[493,  85,  19, 903, 569,   2,  65, 199,  63,  27,  68, 436, 432,\n",
              "          0,   0,   0]])>"
            ]
          },
          "execution_count": 17,
          "metadata": {},
          "output_type": "execute_result"
        }
      ],
      "source": [
        "# Choose a random sentence from the training dataset and tokenize it\n",
        "random_sentence = random.choice(X_train_sentences)\n",
        "print(f\"Original text:\\n{random_sentence}\\\n",
        "      \\n\\nVectorized version:\")\n",
        "text_vectorizer([random_sentence])"
      ]
    },
    {
      "cell_type": "code",
      "execution_count": null,
      "metadata": {
        "tags": [],
        "id": "3zvQ1aYVQJqs",
        "outputId": "bf2e9594-9db3-4c29-a6e0-9111d0d6b693"
      },
      "outputs": [
        {
          "name": "stdout",
          "output_type": "stream",
          "text": [
            "Number of words in vocab: 8456\n",
            "Top 5 most common words: ['', '[UNK]', 'i', 'to', 'you']\n",
            "Bottom 5 least common words: ['02', '0125698789', '0121', '0089my', '008704050406']\n"
          ]
        }
      ],
      "source": [
        "# Get the unique words in the vocabulary\n",
        "words_in_vocab = text_vectorizer.get_vocabulary()\n",
        "top_5_words = words_in_vocab[:5] # most common tokens (notice the [UNK] means \"unknown\" words)\n",
        "bottom_5_words = words_in_vocab[-5:] # least common tokens\n",
        "print(f\"Number of words in vocab: {len(words_in_vocab)}\")\n",
        "print(f\"Top 5 most common words: {top_5_words}\") \n",
        "print(f\"Bottom 5 least common words: {bottom_5_words}\")"
      ]
    },
    {
      "cell_type": "code",
      "execution_count": null,
      "metadata": {
        "tags": [],
        "id": "HMyA0PxYQJqs"
      },
      "outputs": [],
      "source": [
        "# Embedding \n",
        "\n",
        "tf.random.set_seed(42)\n",
        "embedding = tf.keras.layers.Embedding(input_dim=max_vocab_length,\n",
        "                                      output_dim=128,\n",
        "                                      embeddings_initializer='uniform',\n",
        "                                      input_length=max_length,\n",
        "                                      name=\"embedding\")\n"
      ]
    },
    {
      "cell_type": "code",
      "execution_count": null,
      "metadata": {
        "tags": [],
        "id": "Vhdvbn7hQJqs",
        "outputId": "9e5def5c-6eae-41f1-d402-5a835d13d6fd"
      },
      "outputs": [
        {
          "name": "stdout",
          "output_type": "stream",
          "text": [
            "Original text:\n",
            "Claim a 200 shopping spree, just call 08717895698 now! Have you won! MobStoreQuiz10ppm      \n",
            "\n",
            "Embedded version:\n"
          ]
        },
        {
          "data": {
            "text/plain": [
              "<tf.Tensor: shape=(1, 16, 128), dtype=float32, numpy=\n",
              "array([[[ 0.0291287 ,  0.02585142,  0.0255974 , ...,  0.00572053,\n",
              "          0.02781173,  0.01084658],\n",
              "        [-0.03521683, -0.00981399, -0.00284491, ..., -0.04792733,\n",
              "         -0.01664252, -0.03293632],\n",
              "        [ 0.01842329, -0.01247717, -0.00487962, ..., -0.02920858,\n",
              "          0.03259977,  0.00279276],\n",
              "        ...,\n",
              "        [ 0.01645621, -0.00589932, -0.01471175, ..., -0.02511839,\n",
              "          0.00912381, -0.00024097],\n",
              "        [ 0.01645621, -0.00589932, -0.01471175, ..., -0.02511839,\n",
              "          0.00912381, -0.00024097],\n",
              "        [ 0.01645621, -0.00589932, -0.01471175, ..., -0.02511839,\n",
              "          0.00912381, -0.00024097]]], dtype=float32)>"
            ]
          },
          "execution_count": 20,
          "metadata": {},
          "output_type": "execute_result"
        }
      ],
      "source": [
        "# Get a random sentence from training set\n",
        "random_sentence = random.choice(X_train_sentences)\n",
        "print(f\"Original text:\\n{random_sentence}\\\n",
        "      \\n\\nEmbedded version:\")\n",
        "\n",
        "# Embedding the random sentence (turn it into numerical representation)\n",
        "sample_embed = embedding(text_vectorizer([random_sentence]))\n",
        "sample_embed"
      ]
    },
    {
      "cell_type": "code",
      "execution_count": null,
      "metadata": {
        "tags": [],
        "id": "Z9Fx2Ko9QJqs",
        "outputId": "7d0efd2c-32d3-489c-8c7d-57a6358eed7c"
      },
      "outputs": [
        {
          "data": {
            "text/plain": [
              "{'name': 'text_vectorization_1',\n",
              " 'trainable': True,\n",
              " 'batch_input_shape': (None,),\n",
              " 'dtype': 'string',\n",
              " 'max_tokens': 9000,\n",
              " 'standardize': 'lower_and_strip_punctuation',\n",
              " 'split': 'whitespace',\n",
              " 'ngrams': None,\n",
              " 'output_mode': 'int',\n",
              " 'output_sequence_length': 16,\n",
              " 'pad_to_max_tokens': False,\n",
              " 'sparse': False,\n",
              " 'ragged': False,\n",
              " 'vocabulary': None,\n",
              " 'idf_weights': None}"
            ]
          },
          "execution_count": 21,
          "metadata": {},
          "output_type": "execute_result"
        }
      ],
      "source": [
        "# Get the config of our text vectorizer\n",
        "text_vectorizer.get_config()"
      ]
    },
    {
      "cell_type": "code",
      "execution_count": null,
      "metadata": {
        "id": "Wn0cyN5JQJqs",
        "outputId": "4a245fdb-f4d0-4baa-8b28-3c8baad36279"
      },
      "outputs": [
        {
          "data": {
            "text/plain": [
              "Pipeline(steps=[('tf-idf', TfidfVectorizer()), ('clf', MultinomialNB())])"
            ]
          },
          "execution_count": 22,
          "metadata": {},
          "output_type": "execute_result"
        }
      ],
      "source": [
        "# Bulding Baseline Model using TF-IDF Multinomial Naive Bayes\n",
        "from sklearn.feature_extraction.text import TfidfVectorizer\n",
        "from sklearn.naive_bayes import MultinomialNB\n",
        "from sklearn.pipeline import Pipeline\n",
        "\n",
        "baseline_model = Pipeline([\n",
        "    (\"tf-idf\", TfidfVectorizer()), # converts words to numbers\n",
        "    (\"clf\", MultinomialNB())\n",
        "])\n",
        "\n",
        "baseline_model.fit(X_train_sentences,\n",
        "                   y_train_labels)\n",
        "\n"
      ]
    },
    {
      "cell_type": "code",
      "execution_count": null,
      "metadata": {
        "id": "1wPXbhRCQJqt",
        "outputId": "bf038b63-0187-4937-ff75-9afb93928584"
      },
      "outputs": [
        {
          "name": "stdout",
          "output_type": "stream",
          "text": [
            "Our baseline_score accuracy is: 95.61%\n"
          ]
        }
      ],
      "source": [
        "# Evaluate baseline_model's score\n",
        "baseline_score = baseline_model.score(X_val_sentences, y_val_labels)\n",
        "print(f\"Our baseline_score accuracy is: {baseline_score*100:.2f}%\")\n",
        "\n"
      ]
    },
    {
      "cell_type": "code",
      "execution_count": null,
      "metadata": {
        "id": "K38GXe0gQJqt",
        "outputId": "3721a3b2-1037-41ea-c25c-b4f55028dabe"
      },
      "outputs": [
        {
          "data": {
            "text/plain": [
              "array([0, 0, 1, 1, 0, 0, 0, 0, 0, 0])"
            ]
          },
          "execution_count": 24,
          "metadata": {},
          "output_type": "execute_result"
        }
      ],
      "source": [
        "# Make predictions\n",
        "baseline_preds = baseline_model.predict(X_val_sentences)\n",
        "baseline_preds[:10]"
      ]
    },
    {
      "cell_type": "code",
      "execution_count": null,
      "metadata": {
        "id": "0ocqeDCEQJqt"
      },
      "outputs": [],
      "source": [
        "# Function to evaluate; accuracy, precision, recall and f1 score\n",
        "from sklearn.metrics import accuracy_score, precision_recall_fscore_support\n",
        "\n",
        "def calculate_results(y_true, y_pred):\n",
        "    model_accuracy = accuracy_score(y_true, y_pred) * 100\n",
        "    model_precision, model_recall, model_f1,_ = precision_recall_fscore_support(y_true, y_pred, average=\"weighted\")\n",
        "    model_results = {\"accuracy\": model_accuracy,\n",
        "                     \"precision\": model_precision,\n",
        "                     \"recall\": model_recall,\n",
        "                     \"f1\": model_f1}\n",
        "    return model_results\n",
        "    "
      ]
    },
    {
      "cell_type": "code",
      "execution_count": null,
      "metadata": {
        "id": "pJ2ZkXVlQJqt",
        "outputId": "4ff2fbbc-7261-48d9-8fe2-e12f4dde45d9"
      },
      "outputs": [
        {
          "data": {
            "text/plain": [
              "{'accuracy': 95.60538116591928,\n",
              " 'precision': 0.958211490245064,\n",
              " 'recall': 0.9560538116591928,\n",
              " 'f1': 0.9528022781660086}"
            ]
          },
          "execution_count": 26,
          "metadata": {},
          "output_type": "execute_result"
        }
      ],
      "source": [
        "baseline_model_results = calculate_results(y_true=y_val_labels,\n",
        "                                           y_pred=baseline_preds)\n",
        "baseline_model_results"
      ]
    },
    {
      "cell_type": "code",
      "execution_count": null,
      "metadata": {
        "id": "TL8zH1r3QJqt",
        "outputId": "4224b3e4-9958-48b0-d3fa-0f54ceb7013d"
      },
      "outputs": [
        {
          "name": "stdout",
          "output_type": "stream",
          "text": [
            "Model: \"simple_dense_model\"\n",
            "_________________________________________________________________\n",
            " Layer (type)                Output Shape              Param #   \n",
            "=================================================================\n",
            " input_1 (InputLayer)        [(None, 1)]               0         \n",
            "                                                                 \n",
            " text_vectorization_1 (TextV  (None, 16)               0         \n",
            " ectorization)                                                   \n",
            "                                                                 \n",
            " embedding (Embedding)       (None, 16, 128)           1152000   \n",
            "                                                                 \n",
            " global_average_pooling1d (G  (None, 128)              0         \n",
            " lobalAveragePooling1D)                                          \n",
            "                                                                 \n",
            " dense (Dense)               (None, 1)                 129       \n",
            "                                                                 \n",
            "=================================================================\n",
            "Total params: 1,152,129\n",
            "Trainable params: 1,152,129\n",
            "Non-trainable params: 0\n",
            "_________________________________________________________________\n"
          ]
        }
      ],
      "source": [
        "# Model: Simple dense model\n",
        "inputs = tf.keras.layers.Input(shape=(1,), dtype=\"string\") #1 d strings\n",
        "x = text_vectorizer(inputs) # turn texts into number\n",
        "x = embedding(x) # create an embedding of the numerized numbers\n",
        "x = tf.keras.layers.GlobalAveragePooling1D()(x)\n",
        "outputs = tf.keras.layers.Dense(1, activation=\"sigmoid\")(x)\n",
        "simple_dense_model = tf.keras.Model(inputs, outputs, name=\"simple_dense_model\")\n",
        "\n",
        "# Compile the model\n",
        "simple_dense_model.compile(loss=\"binary_crossentropy\",\n",
        "                           optimizer=tf.keras.optimizers.Adam(),\n",
        "                           metrics=[\"accuracy\"])\n",
        "\n",
        "simple_dense_model.summary()"
      ]
    },
    {
      "cell_type": "code",
      "execution_count": null,
      "metadata": {
        "id": "idwMOL9zQJqu",
        "outputId": "e944d915-63c4-444f-e252-6874d09c8b1b"
      },
      "outputs": [
        {
          "name": "stdout",
          "output_type": "stream",
          "text": [
            "Epoch 1/10\n",
            "140/140 [==============================] - 1s 6ms/step - loss: 0.0405 - accuracy: 0.9901 - val_loss: 0.0778 - val_accuracy: 0.9713\n",
            "Epoch 2/10\n",
            "140/140 [==============================] - 1s 6ms/step - loss: 0.0325 - accuracy: 0.9906 - val_loss: 0.0738 - val_accuracy: 0.9749\n",
            "Epoch 3/10\n",
            "140/140 [==============================] - 1s 6ms/step - loss: 0.0263 - accuracy: 0.9935 - val_loss: 0.0715 - val_accuracy: 0.9758\n",
            "Epoch 4/10\n",
            "140/140 [==============================] - 1s 6ms/step - loss: 0.0215 - accuracy: 0.9946 - val_loss: 0.0700 - val_accuracy: 0.9749\n",
            "Epoch 5/10\n",
            "140/140 [==============================] - 1s 6ms/step - loss: 0.0177 - accuracy: 0.9957 - val_loss: 0.0700 - val_accuracy: 0.9740\n",
            "Epoch 6/10\n",
            "140/140 [==============================] - 1s 6ms/step - loss: 0.0148 - accuracy: 0.9966 - val_loss: 0.0703 - val_accuracy: 0.9731\n",
            "Epoch 7/10\n",
            "140/140 [==============================] - 1s 6ms/step - loss: 0.0123 - accuracy: 0.9973 - val_loss: 0.0708 - val_accuracy: 0.9731\n",
            "Epoch 8/10\n",
            "140/140 [==============================] - 1s 6ms/step - loss: 0.0103 - accuracy: 0.9980 - val_loss: 0.0711 - val_accuracy: 0.9731\n",
            "Epoch 9/10\n",
            "140/140 [==============================] - 1s 6ms/step - loss: 0.0088 - accuracy: 0.9984 - val_loss: 0.0721 - val_accuracy: 0.9731\n",
            "Epoch 10/10\n",
            "140/140 [==============================] - 1s 6ms/step - loss: 0.0075 - accuracy: 0.9987 - val_loss: 0.0730 - val_accuracy: 0.9722\n"
          ]
        }
      ],
      "source": [
        "# Fit the model\n",
        "history_simple_dense_model = simple_dense_model.fit(X_train_sentences,\n",
        "                                                    y_train_labels,\n",
        "                                                    epochs=10,\n",
        "                                                    validation_data=(X_val_sentences, y_val_labels))"
      ]
    },
    {
      "cell_type": "code",
      "execution_count": null,
      "metadata": {
        "id": "Jnnq2nxkQJqu",
        "outputId": "0fa62151-5772-4c46-f62b-34c6ee263002"
      },
      "outputs": [
        {
          "name": "stdout",
          "output_type": "stream",
          "text": [
            "35/35 [==============================] - 0s 3ms/step - loss: 0.0730 - accuracy: 0.9722\n"
          ]
        },
        {
          "data": {
            "text/plain": [
              "[0.07299549132585526, 0.9721972942352295]"
            ]
          },
          "execution_count": 30,
          "metadata": {},
          "output_type": "execute_result"
        }
      ],
      "source": [
        "# Check the results\n",
        "simple_dense_model.evaluate(X_val_sentences, y_val_labels)"
      ]
    },
    {
      "cell_type": "code",
      "execution_count": null,
      "metadata": {
        "id": "qwgy269uQJqu",
        "outputId": "80965891-8a92-4b29-eba0-856dd9352631"
      },
      "outputs": [
        {
          "data": {
            "text/plain": [
              "array([[5.8724131e-03],\n",
              "       [2.9376682e-03],\n",
              "       [9.9785882e-01],\n",
              "       [9.9585402e-01],\n",
              "       [7.2453945e-04],\n",
              "       [7.0282193e-03],\n",
              "       [5.4465934e-05],\n",
              "       [9.6232584e-04],\n",
              "       [7.9644786e-04],\n",
              "       [5.2953325e-04]], dtype=float32)"
            ]
          },
          "execution_count": 31,
          "metadata": {},
          "output_type": "execute_result"
        }
      ],
      "source": [
        "# Make prediction\n",
        "simple_dense_model_pred_probs = simple_dense_model.predict(X_val_sentences)\n",
        "simple_dense_model_pred_probs[:10]"
      ]
    },
    {
      "cell_type": "code",
      "execution_count": null,
      "metadata": {
        "id": "gQTs9wJ4QJqu",
        "outputId": "eee75cc8-7722-4bda-d767-001b48292220"
      },
      "outputs": [
        {
          "data": {
            "text/plain": [
              "<tf.Tensor: shape=(10,), dtype=float32, numpy=array([0., 0., 1., 1., 0., 0., 0., 0., 0., 0.], dtype=float32)>"
            ]
          },
          "execution_count": 32,
          "metadata": {},
          "output_type": "execute_result"
        }
      ],
      "source": [
        "# Turn pred_probs into single_dimension using tf.round()\n",
        "simple_dense_model_preds = tf.squeeze(tf.round(simple_dense_model_pred_probs))\n",
        "simple_dense_model_preds[:10]\n"
      ]
    },
    {
      "cell_type": "code",
      "execution_count": null,
      "metadata": {
        "id": "30xM1lbGQJqu",
        "outputId": "fa32e65a-9b21-455d-9420-36aeb745acc8"
      },
      "outputs": [
        {
          "data": {
            "text/plain": [
              "{'accuracy': 97.21973094170404,\n",
              " 'precision': 0.9718598228971536,\n",
              " 'recall': 0.9721973094170404,\n",
              " 'f1': 0.9715704842822593}"
            ]
          },
          "execution_count": 33,
          "metadata": {},
          "output_type": "execute_result"
        }
      ],
      "source": [
        "# Calculate the model results\n",
        "simple_dense_model_results = calculate_results(y_true=y_val_labels,\n",
        "                                               y_pred=simple_dense_model_preds)\n",
        "simple_dense_model_results"
      ]
    },
    {
      "cell_type": "code",
      "execution_count": null,
      "metadata": {
        "id": "sKIidb6XQJqu",
        "outputId": "b67a5b53-9cf3-4d7d-ba5c-fccebbf35610"
      },
      "outputs": [
        {
          "name": "stdout",
          "output_type": "stream",
          "text": [
            "Baseline accuracy: 95.61, New accuracy: 97.22, Difference: 1.61\n",
            "Baseline precision: 0.96, New precision: 0.97, Difference: 0.01\n",
            "Baseline recall: 0.96, New recall: 0.97, Difference: 0.02\n",
            "Baseline f1: 0.95, New f1: 0.97, Difference: 0.02\n"
          ]
        }
      ],
      "source": [
        "# Create a helper function to compare our baseline results to new model results\n",
        "def compare_baseline_to_new_results(baseline_results, new_model_results):\n",
        "    for key, value in baseline_results.items():\n",
        "        print(f\"Baseline {key}: {value:.2f}, New {key}: {new_model_results[key]:.2f}, Difference: {new_model_results[key]-value:.2f}\")\n",
        "\n",
        "compare_baseline_to_new_results(baseline_results=baseline_model_results, \n",
        "                                new_model_results=simple_dense_model_results)"
      ]
    },
    {
      "cell_type": "code",
      "execution_count": null,
      "metadata": {
        "id": "Wkd8PQwcQJqv",
        "outputId": "8b9fb213-4a96-4d0e-8501-f1e43fd7df71"
      },
      "outputs": [
        {
          "data": {
            "text/html": [
              "<div>\n",
              "<style scoped>\n",
              "    .dataframe tbody tr th:only-of-type {\n",
              "        vertical-align: middle;\n",
              "    }\n",
              "\n",
              "    .dataframe tbody tr th {\n",
              "        vertical-align: top;\n",
              "    }\n",
              "\n",
              "    .dataframe thead th {\n",
              "        text-align: right;\n",
              "    }\n",
              "</style>\n",
              "<table border=\"1\" class=\"dataframe\">\n",
              "  <thead>\n",
              "    <tr style=\"text-align: right;\">\n",
              "      <th></th>\n",
              "      <th>accuracy</th>\n",
              "      <th>precision</th>\n",
              "      <th>recall</th>\n",
              "      <th>f1</th>\n",
              "    </tr>\n",
              "  </thead>\n",
              "  <tbody>\n",
              "    <tr>\n",
              "      <th>baseline</th>\n",
              "      <td>95.605381</td>\n",
              "      <td>0.958211</td>\n",
              "      <td>0.956054</td>\n",
              "      <td>0.952802</td>\n",
              "    </tr>\n",
              "    <tr>\n",
              "      <th>simple_dense</th>\n",
              "      <td>97.219731</td>\n",
              "      <td>0.971860</td>\n",
              "      <td>0.972197</td>\n",
              "      <td>0.971570</td>\n",
              "    </tr>\n",
              "  </tbody>\n",
              "</table>\n",
              "</div>"
            ],
            "text/plain": [
              "               accuracy  precision    recall        f1\n",
              "baseline      95.605381   0.958211  0.956054  0.952802\n",
              "simple_dense  97.219731   0.971860  0.972197  0.971570"
            ]
          },
          "execution_count": 35,
          "metadata": {},
          "output_type": "execute_result"
        }
      ],
      "source": [
        "# Combine model results into a DataFrame\n",
        "all_model_results = pd.DataFrame({\"baseline\": baseline_model_results,\n",
        "                                  \"simple_dense\": simple_dense_model_results,\n",
        "                                 })\n",
        "all_model_results = all_model_results.transpose()\n",
        "all_model_results"
      ]
    },
    {
      "cell_type": "code",
      "execution_count": null,
      "metadata": {
        "id": "NdhXULkdQJqv",
        "outputId": "5a625dcd-8996-4078-980b-1c10ec3868e3"
      },
      "outputs": [
        {
          "data": {
            "text/plain": [
              "<tf.Tensor: shape=(10,), dtype=float32, numpy=array([0., 0., 1., 1., 0., 0., 0., 0., 0., 0.], dtype=float32)>"
            ]
          },
          "execution_count": 36,
          "metadata": {},
          "output_type": "execute_result"
        }
      ],
      "source": [
        "# Get mean pred probs for 3 models\n",
        "baseline_pred_probs = np.max(baseline_model.predict_proba(X_val_sentences), axis=1) # get the prediction probabilities from baseline model\n",
        "combined_pred_probs = baseline_pred_probs + tf.squeeze(simple_dense_model_pred_probs, axis=1) \n",
        "combined_preds = tf.round(combined_pred_probs/2) # average and round the prediction probabilities to get prediction classes\n",
        "combined_preds[:10]"
      ]
    },
    {
      "cell_type": "code",
      "execution_count": null,
      "metadata": {
        "id": "BKDToDJHQJqv",
        "outputId": "555b052a-c63c-4e71-a5a7-1f35e7159ee4"
      },
      "outputs": [
        {
          "data": {
            "text/plain": [
              "{'accuracy': 82.78026905829596,\n",
              " 'precision': 0.9066884449666035,\n",
              " 'recall': 0.8278026905829596,\n",
              " 'f1': 0.8483708131366805}"
            ]
          },
          "execution_count": 37,
          "metadata": {},
          "output_type": "execute_result"
        }
      ],
      "source": [
        "# Calculate results from averaging the prediction probabilities\n",
        "ensemble_results = calculate_results(y_val_labels, combined_preds)\n",
        "ensemble_results"
      ]
    },
    {
      "cell_type": "code",
      "execution_count": null,
      "metadata": {
        "id": "NxZ5qFZxQJqv"
      },
      "outputs": [],
      "source": [
        "# Add our combined model's results to the results DataFrame\n",
        "all_model_results.loc[\"ensemble_results\"] = ensemble_results"
      ]
    },
    {
      "cell_type": "code",
      "execution_count": null,
      "metadata": {
        "id": "tY4MuKD9QJqv",
        "outputId": "6b2ab70e-674e-485c-83d8-19eeb3a55a54"
      },
      "outputs": [
        {
          "data": {
            "text/html": [
              "<div>\n",
              "<style scoped>\n",
              "    .dataframe tbody tr th:only-of-type {\n",
              "        vertical-align: middle;\n",
              "    }\n",
              "\n",
              "    .dataframe tbody tr th {\n",
              "        vertical-align: top;\n",
              "    }\n",
              "\n",
              "    .dataframe thead th {\n",
              "        text-align: right;\n",
              "    }\n",
              "</style>\n",
              "<table border=\"1\" class=\"dataframe\">\n",
              "  <thead>\n",
              "    <tr style=\"text-align: right;\">\n",
              "      <th></th>\n",
              "      <th>accuracy</th>\n",
              "      <th>precision</th>\n",
              "      <th>recall</th>\n",
              "      <th>f1</th>\n",
              "    </tr>\n",
              "  </thead>\n",
              "  <tbody>\n",
              "    <tr>\n",
              "      <th>baseline</th>\n",
              "      <td>95.605381</td>\n",
              "      <td>0.958211</td>\n",
              "      <td>0.956054</td>\n",
              "      <td>0.952802</td>\n",
              "    </tr>\n",
              "    <tr>\n",
              "      <th>simple_dense</th>\n",
              "      <td>97.219731</td>\n",
              "      <td>0.971860</td>\n",
              "      <td>0.972197</td>\n",
              "      <td>0.971570</td>\n",
              "    </tr>\n",
              "    <tr>\n",
              "      <th>ensemble_results</th>\n",
              "      <td>82.780269</td>\n",
              "      <td>0.906688</td>\n",
              "      <td>0.827803</td>\n",
              "      <td>0.848371</td>\n",
              "    </tr>\n",
              "  </tbody>\n",
              "</table>\n",
              "</div>"
            ],
            "text/plain": [
              "                   accuracy  precision    recall        f1\n",
              "baseline          95.605381   0.958211  0.956054  0.952802\n",
              "simple_dense      97.219731   0.971860  0.972197  0.971570\n",
              "ensemble_results  82.780269   0.906688  0.827803  0.848371"
            ]
          },
          "execution_count": 39,
          "metadata": {},
          "output_type": "execute_result"
        }
      ],
      "source": [
        "all_model_results"
      ]
    },
    {
      "cell_type": "code",
      "execution_count": null,
      "metadata": {
        "id": "BPzz1-vHQJqv",
        "outputId": "d1c9fd32-8a81-4720-aa04-e5dc0fe65231"
      },
      "outputs": [
        {
          "data": {
            "text/html": [
              "<div>\n",
              "<style scoped>\n",
              "    .dataframe tbody tr th:only-of-type {\n",
              "        vertical-align: middle;\n",
              "    }\n",
              "\n",
              "    .dataframe tbody tr th {\n",
              "        vertical-align: top;\n",
              "    }\n",
              "\n",
              "    .dataframe thead th {\n",
              "        text-align: right;\n",
              "    }\n",
              "</style>\n",
              "<table border=\"1\" class=\"dataframe\">\n",
              "  <thead>\n",
              "    <tr style=\"text-align: right;\">\n",
              "      <th></th>\n",
              "      <th>text</th>\n",
              "      <th>target</th>\n",
              "      <th>pred</th>\n",
              "      <th>pred_prob</th>\n",
              "    </tr>\n",
              "  </thead>\n",
              "  <tbody>\n",
              "    <tr>\n",
              "      <th>0</th>\n",
              "      <td>Great comedy..cant stop laughing da:)</td>\n",
              "      <td>0</td>\n",
              "      <td>&lt;keras.engine.functional.Functional object at ...</td>\n",
              "      <td>0.005872</td>\n",
              "    </tr>\n",
              "    <tr>\n",
              "      <th>1</th>\n",
              "      <td>Its sarcasm.. .nt scarcasim</td>\n",
              "      <td>0</td>\n",
              "      <td>&lt;keras.engine.functional.Functional object at ...</td>\n",
              "      <td>0.002938</td>\n",
              "    </tr>\n",
              "    <tr>\n",
              "      <th>2</th>\n",
              "      <td>We tried to contact you re your reply to our o...</td>\n",
              "      <td>1</td>\n",
              "      <td>&lt;keras.engine.functional.Functional object at ...</td>\n",
              "      <td>0.997859</td>\n",
              "    </tr>\n",
              "    <tr>\n",
              "      <th>3</th>\n",
              "      <td>FreeMsg: Claim ur 250 SMS messages-Text OK to ...</td>\n",
              "      <td>1</td>\n",
              "      <td>&lt;keras.engine.functional.Functional object at ...</td>\n",
              "      <td>0.995854</td>\n",
              "    </tr>\n",
              "    <tr>\n",
              "      <th>4</th>\n",
              "      <td>Ya that one is slow as poo</td>\n",
              "      <td>0</td>\n",
              "      <td>&lt;keras.engine.functional.Functional object at ...</td>\n",
              "      <td>0.000725</td>\n",
              "    </tr>\n",
              "  </tbody>\n",
              "</table>\n",
              "</div>"
            ],
            "text/plain": [
              "                                                text  target  \\\n",
              "0              Great comedy..cant stop laughing da:)       0   \n",
              "1                        Its sarcasm.. .nt scarcasim       0   \n",
              "2  We tried to contact you re your reply to our o...       1   \n",
              "3  FreeMsg: Claim ur 250 SMS messages-Text OK to ...       1   \n",
              "4                         Ya that one is slow as poo       0   \n",
              "\n",
              "                                                pred  pred_prob  \n",
              "0  <keras.engine.functional.Functional object at ...   0.005872  \n",
              "1  <keras.engine.functional.Functional object at ...   0.002938  \n",
              "2  <keras.engine.functional.Functional object at ...   0.997859  \n",
              "3  <keras.engine.functional.Functional object at ...   0.995854  \n",
              "4  <keras.engine.functional.Functional object at ...   0.000725  "
            ]
          },
          "execution_count": 40,
          "metadata": {},
          "output_type": "execute_result"
        }
      ],
      "source": [
        "# Finding the most wrong examples\n",
        "# 1. Create dataframe with validation sentences and best performing model predictions\n",
        "val_df = pd.DataFrame({\"text\": X_val_sentences,\n",
        "                       \"target\": y_val_labels,\n",
        "                       \"pred\": simple_dense_model,\n",
        "                       \"pred_prob\": tf.squeeze(simple_dense_model_pred_probs)})\n",
        "val_df.head()\n"
      ]
    },
    {
      "cell_type": "code",
      "execution_count": null,
      "metadata": {
        "id": "XqAzOrxIQJqv",
        "outputId": "ea4c0650-259c-4de6-eb3f-f94cf4f808aa"
      },
      "outputs": [
        {
          "data": {
            "text/html": [
              "<div>\n",
              "<style scoped>\n",
              "    .dataframe tbody tr th:only-of-type {\n",
              "        vertical-align: middle;\n",
              "    }\n",
              "\n",
              "    .dataframe tbody tr th {\n",
              "        vertical-align: top;\n",
              "    }\n",
              "\n",
              "    .dataframe thead th {\n",
              "        text-align: right;\n",
              "    }\n",
              "</style>\n",
              "<table border=\"1\" class=\"dataframe\">\n",
              "  <thead>\n",
              "    <tr style=\"text-align: right;\">\n",
              "      <th></th>\n",
              "      <th>text</th>\n",
              "      <th>target</th>\n",
              "      <th>pred</th>\n",
              "      <th>pred_prob</th>\n",
              "    </tr>\n",
              "  </thead>\n",
              "  <tbody>\n",
              "    <tr>\n",
              "      <th>1050</th>\n",
              "      <td>Congratulations ur awarded 500 of CD vouchers ...</td>\n",
              "      <td>1</td>\n",
              "      <td>&lt;keras.engine.functional.Functional object at ...</td>\n",
              "      <td>0.999993</td>\n",
              "    </tr>\n",
              "    <tr>\n",
              "      <th>438</th>\n",
              "      <td>This message is free. Welcome to the new &amp; imp...</td>\n",
              "      <td>1</td>\n",
              "      <td>&lt;keras.engine.functional.Functional object at ...</td>\n",
              "      <td>0.999984</td>\n",
              "    </tr>\n",
              "    <tr>\n",
              "      <th>153</th>\n",
              "      <td>URGENT! Your Mobile number has been awarded wi...</td>\n",
              "      <td>1</td>\n",
              "      <td>&lt;keras.engine.functional.Functional object at ...</td>\n",
              "      <td>0.999984</td>\n",
              "    </tr>\n",
              "    <tr>\n",
              "      <th>420</th>\n",
              "      <td>4mths half price Orange line rental &amp; latest c...</td>\n",
              "      <td>1</td>\n",
              "      <td>&lt;keras.engine.functional.Functional object at ...</td>\n",
              "      <td>0.999975</td>\n",
              "    </tr>\n",
              "    <tr>\n",
              "      <th>274</th>\n",
              "      <td>You have an important customer service announc...</td>\n",
              "      <td>1</td>\n",
              "      <td>&lt;keras.engine.functional.Functional object at ...</td>\n",
              "      <td>0.999974</td>\n",
              "    </tr>\n",
              "    <tr>\n",
              "      <th>662</th>\n",
              "      <td>URGENT! Your mobile was awarded a å£1,500 Bonu...</td>\n",
              "      <td>1</td>\n",
              "      <td>&lt;keras.engine.functional.Functional object at ...</td>\n",
              "      <td>0.999966</td>\n",
              "    </tr>\n",
              "    <tr>\n",
              "      <th>681</th>\n",
              "      <td>XMAS iscoming &amp; ur awarded either å£500 CD gif...</td>\n",
              "      <td>1</td>\n",
              "      <td>&lt;keras.engine.functional.Functional object at ...</td>\n",
              "      <td>0.999963</td>\n",
              "    </tr>\n",
              "    <tr>\n",
              "      <th>58</th>\n",
              "      <td>Get ur 1st RINGTONE FREE NOW! Reply to this ms...</td>\n",
              "      <td>1</td>\n",
              "      <td>&lt;keras.engine.functional.Functional object at ...</td>\n",
              "      <td>0.999955</td>\n",
              "    </tr>\n",
              "    <tr>\n",
              "      <th>1032</th>\n",
              "      <td>Urgent! call 09066350750 from your landline. Y...</td>\n",
              "      <td>1</td>\n",
              "      <td>&lt;keras.engine.functional.Functional object at ...</td>\n",
              "      <td>0.999954</td>\n",
              "    </tr>\n",
              "    <tr>\n",
              "      <th>494</th>\n",
              "      <td>Urgent! Please call 09061743810 from landline....</td>\n",
              "      <td>1</td>\n",
              "      <td>&lt;keras.engine.functional.Functional object at ...</td>\n",
              "      <td>0.999933</td>\n",
              "    </tr>\n",
              "    <tr>\n",
              "      <th>533</th>\n",
              "      <td>Great News! Call FREEFONE 08006344447 to claim...</td>\n",
              "      <td>1</td>\n",
              "      <td>&lt;keras.engine.functional.Functional object at ...</td>\n",
              "      <td>0.999922</td>\n",
              "    </tr>\n",
              "    <tr>\n",
              "      <th>955</th>\n",
              "      <td>PRIVATE! Your 2004 Account Statement for 07742...</td>\n",
              "      <td>1</td>\n",
              "      <td>&lt;keras.engine.functional.Functional object at ...</td>\n",
              "      <td>0.999922</td>\n",
              "    </tr>\n",
              "    <tr>\n",
              "      <th>1014</th>\n",
              "      <td>Double Mins &amp; Double Txt &amp; 1/2 price Linerenta...</td>\n",
              "      <td>1</td>\n",
              "      <td>&lt;keras.engine.functional.Functional object at ...</td>\n",
              "      <td>0.999912</td>\n",
              "    </tr>\n",
              "    <tr>\n",
              "      <th>235</th>\n",
              "      <td>Urgent! call 09066612661 from landline. Your c...</td>\n",
              "      <td>1</td>\n",
              "      <td>&lt;keras.engine.functional.Functional object at ...</td>\n",
              "      <td>0.999907</td>\n",
              "    </tr>\n",
              "    <tr>\n",
              "      <th>684</th>\n",
              "      <td>YOU VE WON! Your 4* Costa Del Sol Holiday or å...</td>\n",
              "      <td>1</td>\n",
              "      <td>&lt;keras.engine.functional.Functional object at ...</td>\n",
              "      <td>0.999856</td>\n",
              "    </tr>\n",
              "    <tr>\n",
              "      <th>921</th>\n",
              "      <td>PRIVATE! Your 2003 Account Statement for shows...</td>\n",
              "      <td>1</td>\n",
              "      <td>&lt;keras.engine.functional.Functional object at ...</td>\n",
              "      <td>0.999828</td>\n",
              "    </tr>\n",
              "    <tr>\n",
              "      <th>577</th>\n",
              "      <td>URGENT!! Your 4* Costa Del Sol Holiday or å£50...</td>\n",
              "      <td>1</td>\n",
              "      <td>&lt;keras.engine.functional.Functional object at ...</td>\n",
              "      <td>0.999824</td>\n",
              "    </tr>\n",
              "    <tr>\n",
              "      <th>910</th>\n",
              "      <td>FREE for 1st week! No1 Nokia tone 4 ur mobile ...</td>\n",
              "      <td>1</td>\n",
              "      <td>&lt;keras.engine.functional.Functional object at ...</td>\n",
              "      <td>0.999816</td>\n",
              "    </tr>\n",
              "    <tr>\n",
              "      <th>1098</th>\n",
              "      <td>URGENT! Your Mobile No was awarded a å£2,000 B...</td>\n",
              "      <td>1</td>\n",
              "      <td>&lt;keras.engine.functional.Functional object at ...</td>\n",
              "      <td>0.999796</td>\n",
              "    </tr>\n",
              "    <tr>\n",
              "      <th>557</th>\n",
              "      <td>Urgent -call 09066649731from Landline. Your co...</td>\n",
              "      <td>1</td>\n",
              "      <td>&lt;keras.engine.functional.Functional object at ...</td>\n",
              "      <td>0.999726</td>\n",
              "    </tr>\n",
              "  </tbody>\n",
              "</table>\n",
              "</div>"
            ],
            "text/plain": [
              "                                                   text  target  \\\n",
              "1050  Congratulations ur awarded 500 of CD vouchers ...       1   \n",
              "438   This message is free. Welcome to the new & imp...       1   \n",
              "153   URGENT! Your Mobile number has been awarded wi...       1   \n",
              "420   4mths half price Orange line rental & latest c...       1   \n",
              "274   You have an important customer service announc...       1   \n",
              "662   URGENT! Your mobile was awarded a å£1,500 Bonu...       1   \n",
              "681   XMAS iscoming & ur awarded either å£500 CD gif...       1   \n",
              "58    Get ur 1st RINGTONE FREE NOW! Reply to this ms...       1   \n",
              "1032  Urgent! call 09066350750 from your landline. Y...       1   \n",
              "494   Urgent! Please call 09061743810 from landline....       1   \n",
              "533   Great News! Call FREEFONE 08006344447 to claim...       1   \n",
              "955   PRIVATE! Your 2004 Account Statement for 07742...       1   \n",
              "1014  Double Mins & Double Txt & 1/2 price Linerenta...       1   \n",
              "235   Urgent! call 09066612661 from landline. Your c...       1   \n",
              "684   YOU VE WON! Your 4* Costa Del Sol Holiday or å...       1   \n",
              "921   PRIVATE! Your 2003 Account Statement for shows...       1   \n",
              "577   URGENT!! Your 4* Costa Del Sol Holiday or å£50...       1   \n",
              "910   FREE for 1st week! No1 Nokia tone 4 ur mobile ...       1   \n",
              "1098  URGENT! Your Mobile No was awarded a å£2,000 B...       1   \n",
              "557   Urgent -call 09066649731from Landline. Your co...       1   \n",
              "\n",
              "                                                   pred  pred_prob  \n",
              "1050  <keras.engine.functional.Functional object at ...   0.999993  \n",
              "438   <keras.engine.functional.Functional object at ...   0.999984  \n",
              "153   <keras.engine.functional.Functional object at ...   0.999984  \n",
              "420   <keras.engine.functional.Functional object at ...   0.999975  \n",
              "274   <keras.engine.functional.Functional object at ...   0.999974  \n",
              "662   <keras.engine.functional.Functional object at ...   0.999966  \n",
              "681   <keras.engine.functional.Functional object at ...   0.999963  \n",
              "58    <keras.engine.functional.Functional object at ...   0.999955  \n",
              "1032  <keras.engine.functional.Functional object at ...   0.999954  \n",
              "494   <keras.engine.functional.Functional object at ...   0.999933  \n",
              "533   <keras.engine.functional.Functional object at ...   0.999922  \n",
              "955   <keras.engine.functional.Functional object at ...   0.999922  \n",
              "1014  <keras.engine.functional.Functional object at ...   0.999912  \n",
              "235   <keras.engine.functional.Functional object at ...   0.999907  \n",
              "684   <keras.engine.functional.Functional object at ...   0.999856  \n",
              "921   <keras.engine.functional.Functional object at ...   0.999828  \n",
              "577   <keras.engine.functional.Functional object at ...   0.999824  \n",
              "910   <keras.engine.functional.Functional object at ...   0.999816  \n",
              "1098  <keras.engine.functional.Functional object at ...   0.999796  \n",
              "557   <keras.engine.functional.Functional object at ...   0.999726  "
            ]
          },
          "execution_count": 41,
          "metadata": {},
          "output_type": "execute_result"
        }
      ],
      "source": [
        "# Find the wrong predictions and sort by prediction probabilities\n",
        "most_wrong = val_df[val_df[\"target\"] != val_df[\"pred\"]].sort_values(\"pred_prob\", ascending=False)\n",
        "most_wrong[:20]"
      ]
    },
    {
      "cell_type": "code",
      "execution_count": null,
      "metadata": {
        "id": "BwWnjf1lQJqw",
        "outputId": "ea1f174d-7211-464f-88c1-93ab23607dc5"
      },
      "outputs": [
        {
          "name": "stdout",
          "output_type": "stream",
          "text": [
            "Target: 1, Pred: <keras.engine.functional.Functional object at 0x7f2058024be0>, Prob: 0.9999927282333374\n",
            "Text:\n",
            "Congratulations ur awarded 500 of CD vouchers or 125gift guaranteed & Free entry 2 100 wkly draw txt MUSIC to 87066 TnCs www.Ldew.com1win150ppmx3age16\n",
            "\n",
            "----\n",
            "\n",
            "Target: 1, Pred: <keras.engine.functional.Functional object at 0x7f2058024be0>, Prob: 0.9999843835830688\n",
            "Text:\n",
            "This message is free. Welcome to the new & improved Sex & Dogging club! To unsubscribe from this service reply STOP. msgs@150p 18+only\n",
            "\n",
            "----\n",
            "\n",
            "Target: 1, Pred: <keras.engine.functional.Functional object at 0x7f2058024be0>, Prob: 0.999983549118042\n",
            "Text:\n",
            "URGENT! Your Mobile number has been awarded with a å£2000 prize GUARANTEED. Call 09058094454 from land line. Claim 3030. Valid 12hrs only\n",
            "\n",
            "----\n",
            "\n",
            "Target: 1, Pred: <keras.engine.functional.Functional object at 0x7f2058024be0>, Prob: 0.9999750852584839\n",
            "Text:\n",
            "4mths half price Orange line rental & latest camera phones 4 FREE. Had your phone 11mths ? Call MobilesDirect free on 08000938767 to update now! or2stoptxt\n",
            "\n",
            "----\n",
            "\n",
            "Target: 1, Pred: <keras.engine.functional.Functional object at 0x7f2058024be0>, Prob: 0.9999741315841675\n",
            "Text:\n",
            "You have an important customer service announcement from PREMIER. Call FREEPHONE 0800 542 0578 now!\n",
            "\n",
            "----\n",
            "\n",
            "Target: 1, Pred: <keras.engine.functional.Functional object at 0x7f2058024be0>, Prob: 0.9999656677246094\n",
            "Text:\n",
            "URGENT! Your mobile was awarded a å£1,500 Bonus Caller Prize on 27/6/03. Our final attempt 2 contact U! Call 08714714011\n",
            "\n",
            "----\n",
            "\n",
            "Target: 1, Pred: <keras.engine.functional.Functional object at 0x7f2058024be0>, Prob: 0.9999629259109497\n",
            "Text:\n",
            "XMAS iscoming & ur awarded either å£500 CD gift vouchers & free entry 2 r å£100 weekly draw txt MUSIC to 87066 TnC www.Ldew.com1win150ppmx3age16subscription \n",
            "\n",
            "----\n",
            "\n",
            "Target: 1, Pred: <keras.engine.functional.Functional object at 0x7f2058024be0>, Prob: 0.9999550580978394\n",
            "Text:\n",
            "Get ur 1st RINGTONE FREE NOW! Reply to this msg with TONE. Gr8 TOP 20 tones to your phone every week just å£1.50 per wk 2 opt out send STOP 08452810071 16\n",
            "\n",
            "----\n",
            "\n",
            "Target: 1, Pred: <keras.engine.functional.Functional object at 0x7f2058024be0>, Prob: 0.9999539852142334\n",
            "Text:\n",
            "Urgent! call 09066350750 from your landline. Your complimentary 4* Ibiza Holiday or 10,000 cash await collection SAE T&Cs PO BOX 434 SK3 8WP 150 ppm 18+ \n",
            "\n",
            "----\n",
            "\n",
            "Target: 1, Pred: <keras.engine.functional.Functional object at 0x7f2058024be0>, Prob: 0.9999334812164307\n",
            "Text:\n",
            "Urgent! Please call 09061743810 from landline. Your ABTA complimentary 4* Tenerife Holiday or #5000 cash await collection SAE T&Cs Box 326 CW25WX 150 ppm\n",
            "\n",
            "----\n",
            "\n"
          ]
        }
      ],
      "source": [
        "# Chechking false positive(predicted: 1, should have been: 0)\n",
        "for row in most_wrong[:10].itertuples(): # loop through the top 10 rows (change the index to view different rows)\n",
        "    _, text, target, pred, prob = row\n",
        "    print(f\"Target: {target}, Pred: {pred}, Prob: {prob}\")\n",
        "    print(f\"Text:\\n{text}\\n\")\n",
        "    print(\"----\\n\")"
      ]
    },
    {
      "cell_type": "code",
      "execution_count": null,
      "metadata": {
        "id": "_f97b3RJQJqw",
        "outputId": "dc61edc7-5c88-4267-f08a-13e08f83c73b"
      },
      "outputs": [
        {
          "name": "stdout",
          "output_type": "stream",
          "text": [
            "Target: 0, Pred: <keras.engine.functional.Functional object at 0x7f2058024be0>, Prob: 2.1128521439095493e-06\n",
            "Text:\n",
            "Hey, can you tell me blake's address? Carlos wanted me to meet him there but I got lost and he's not answering his phone\n",
            "\n",
            "----\n",
            "\n",
            "Target: 0, Pred: <keras.engine.functional.Functional object at 0x7f2058024be0>, Prob: 2.0981442503398284e-06\n",
            "Text:\n",
            "Thanks honey but still haven't heard anything I will leave it a bit longer so not 2 crowd him and will try later - great advice thanks hope cardiff is still there!\n",
            "\n",
            "----\n",
            "\n",
            "Target: 0, Pred: <keras.engine.functional.Functional object at 0x7f2058024be0>, Prob: 1.977963165700203e-06\n",
            "Text:\n",
            "Yar lor actually we quite fast... Cos da ge slow wat... Haha...\n",
            "\n",
            "----\n",
            "\n",
            "Target: 0, Pred: <keras.engine.functional.Functional object at 0x7f2058024be0>, Prob: 1.8490298998585786e-06\n",
            "Text:\n",
            "I'm stuck in da middle of da row on da right hand side of da lt... \n",
            "\n",
            "----\n",
            "\n",
            "Target: 0, Pred: <keras.engine.functional.Functional object at 0x7f2058024be0>, Prob: 1.7540857015774236e-06\n",
            "Text:\n",
            "Mum say we wan to go then go... Then she can shun bian watch da glass exhibition... \n",
            "\n",
            "----\n",
            "\n",
            "Target: 0, Pred: <keras.engine.functional.Functional object at 0x7f2058024be0>, Prob: 1.3297293435243773e-06\n",
            "Text:\n",
            "I also thk too fast... Xy suggest one not me. U dun wan it's ok. Going 2 rain leh where got gd.\n",
            "\n",
            "----\n",
            "\n",
            "Target: 0, Pred: <keras.engine.functional.Functional object at 0x7f2058024be0>, Prob: 8.187105891011015e-07\n",
            "Text:\n",
            "Ok then i'll let him noe later n ask him call u tmr...\n",
            "\n",
            "----\n",
            "\n",
            "Target: 0, Pred: <keras.engine.functional.Functional object at 0x7f2058024be0>, Prob: 7.115204994079249e-07\n",
            "Text:\n",
            "Aft i finish my lunch then i go str down lor. Ard 3 smth lor. U finish ur lunch already?\n",
            "\n",
            "----\n",
            "\n",
            "Target: 0, Pred: <keras.engine.functional.Functional object at 0x7f2058024be0>, Prob: 5.916549525863957e-07\n",
            "Text:\n",
            "ÌÏ neva tell me how i noe... I'm not at home in da aft wat... \n",
            "\n",
            "----\n",
            "\n",
            "Target: 0, Pred: <keras.engine.functional.Functional object at 0x7f2058024be0>, Prob: 2.9866870931982703e-07\n",
            "Text:\n",
            "Watch lor. I saw a few swatch one i thk quite ok. Ard 116 but i need 2nd opinion leh...\n",
            "\n",
            "----\n",
            "\n"
          ]
        }
      ],
      "source": [
        "# Checking false negative(predicted: 0, should have been: 1)\n",
        "for row in most_wrong[-10:].itertuples():\n",
        "    _, text, target, pred, prob = row\n",
        "    print(f\"Target: {target}, Pred: {pred}, Prob: {prob}\")\n",
        "    print(f\"Text:\\n{text}\\n\")\n",
        "    print(\"----\\n\")"
      ]
    },
    {
      "cell_type": "markdown",
      "metadata": {
        "id": "wqOlUoxjQJqw"
      },
      "source": [
        "It seems that when we check the false positive and false negative examples for checking, our model seems to be very successful."
      ]
    },
    {
      "cell_type": "code",
      "execution_count": null,
      "metadata": {
        "id": "pqkSv_lrQJqx"
      },
      "outputs": [],
      "source": [
        "# Let's check \n",
        "sample_1 = \"Congratulations! You've won a $1000 Walmart gift card. Go to http://bit.ly/123456 tp claim now\"\n",
        "sample_2 = \"Did you get the message I sent you yesterday about the car price? Please let me know if you got it. \""
      ]
    },
    {
      "cell_type": "code",
      "execution_count": null,
      "metadata": {
        "id": "ae8y5eKEQJqx"
      },
      "outputs": [],
      "source": [
        "def predict_on_sentence(model, sentence):\n",
        "    pred_prob = model.predict([sentence])\n",
        "    pred_label = tf.squeeze(tf.round(pred_prob).numpy())\n",
        "    print(f\"Pred: {pred_label}\", \"(spam)\" if pred_label > 0 else \"not spam\", f\"Prob: {pred_prob[0][0]}\")\n",
        "    print(f\"Text:\\n{sentence}\")"
      ]
    },
    {
      "cell_type": "code",
      "execution_count": null,
      "metadata": {
        "id": "Wn0nmGT-QJqx",
        "outputId": "43bd4bec-d7f8-427e-d988-5afeffa12a66"
      },
      "outputs": [
        {
          "name": "stdout",
          "output_type": "stream",
          "text": [
            "Pred: 1.0 (spam) Prob: 0.9724246859550476\n",
            "Text:\n",
            "Congratulations! You've won a $1000 Walmart gift card. Go to http://bit.ly/123456 tp claim now\n"
          ]
        }
      ],
      "source": [
        "# Make a prediction on sample_1\n",
        "predict_on_sentence(model=simple_dense_model, \n",
        "                    sentence=sample_1)"
      ]
    },
    {
      "cell_type": "code",
      "execution_count": null,
      "metadata": {
        "id": "cX7uBvvDQJqx",
        "outputId": "4f249eb4-13c0-40cf-950e-163aa2109315"
      },
      "outputs": [
        {
          "name": "stdout",
          "output_type": "stream",
          "text": [
            "Pred: 0.0 not spam Prob: 0.00229619606398046\n",
            "Text:\n",
            "Did you get the message I sent you yesterday about the car price? Please let me know if you got it. \n"
          ]
        }
      ],
      "source": [
        "predict_on_sentence(model=simple_dense_model, \n",
        "                    sentence=sample_2)"
      ]
    },
    {
      "cell_type": "code",
      "execution_count": null,
      "metadata": {
        "id": "LSyWqfesQJqx",
        "outputId": "20bf2ac8-9bf0-4cc8-f659-d9ecdda25fdf"
      },
      "outputs": [
        {
          "name": "stderr",
          "output_type": "stream",
          "text": [
            "2023-02-24 21:36:55.955611: W tensorflow/python/util/util.cc:368] Sets are not currently considered sequences, but this may change in the future, so consider avoiding using them.\n"
          ]
        },
        {
          "name": "stdout",
          "output_type": "stream",
          "text": [
            "INFO:tensorflow:Assets written to: spam_detection_model/assets\n"
          ]
        }
      ],
      "source": [
        "simple_dense_model.save('spam_detection_model')\n"
      ]
    },
    {
      "cell_type": "code",
      "execution_count": null,
      "metadata": {
        "id": "1TMOH8bgQJqx"
      },
      "outputs": [],
      "source": [
        "spam_detection_model = tf.keras.models.load_model('spam_detection_model')\n"
      ]
    },
    {
      "cell_type": "code",
      "execution_count": null,
      "metadata": {
        "id": "Kdd93ghjQJqx",
        "outputId": "20715369-e2a7-4e3e-fe0a-b566b1268938"
      },
      "outputs": [
        {
          "name": "stdout",
          "output_type": "stream",
          "text": [
            "Pred: 0.0 not spam Prob: 0.00229619606398046\n",
            "Text:\n",
            "Did you get the message I sent you yesterday about the car price? Please let me know if you got it. \n"
          ]
        }
      ],
      "source": [
        "predict_on_sentence(model=spam_detection_model, \n",
        "                    sentence=sample_2)"
      ]
    },
    {
      "cell_type": "code",
      "execution_count": null,
      "metadata": {
        "id": "pwg7sssYQJqy"
      },
      "outputs": [],
      "source": []
    }
  ],
  "metadata": {
    "kernelspec": {
      "display_name": "tf2_py38",
      "language": "python",
      "name": "tf2_py38"
    },
    "language_info": {
      "codemirror_mode": {
        "name": "ipython",
        "version": 3
      },
      "file_extension": ".py",
      "mimetype": "text/x-python",
      "name": "python",
      "nbconvert_exporter": "python",
      "pygments_lexer": "ipython3",
      "version": "3.8.5"
    },
    "colab": {
      "provenance": [],
      "include_colab_link": true
    }
  },
  "nbformat": 4,
  "nbformat_minor": 0
}