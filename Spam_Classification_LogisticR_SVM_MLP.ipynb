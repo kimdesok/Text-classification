{
  "cells": [
    {
      "cell_type": "markdown",
      "metadata": {
        "id": "view-in-github",
        "colab_type": "text"
      },
      "source": [
        "<a href=\"https://colab.research.google.com/github/kimdesok/Text-classification/blob/main/Spam_Classification_LogisticR_SVM_MLP.ipynb\" target=\"_parent\"><img src=\"https://colab.research.google.com/assets/colab-badge.svg\" alt=\"Open In Colab\"/></a>"
      ]
    },
    {
      "cell_type": "code",
      "execution_count": 1,
      "id": "7779e0a8",
      "metadata": {
        "_cell_guid": "b1076dfc-b9ad-4769-8c92-a6c4dae69d19",
        "_uuid": "8f2839f25d086af736a60e9eeb907d3b93b6e0e5",
        "papermill": {
          "duration": 1.392724,
          "end_time": "2023-01-27T16:16:54.221699",
          "exception": false,
          "start_time": "2023-01-27T16:16:52.828975",
          "status": "completed"
        },
        "tags": [],
        "id": "7779e0a8"
      },
      "outputs": [],
      "source": [
        "import numpy as np \n",
        "import pandas as pd \n",
        "\n",
        "from sklearn.model_selection import train_test_split\n",
        "from sklearn.preprocessing import LabelEncoder\n",
        "\n",
        "from sklearn.feature_extraction.text import TfidfVectorizer\n",
        "from sklearn.linear_model import LogisticRegression\n",
        "from sklearn.svm import SVC\n",
        "from sklearn.neural_network import MLPClassifier\n",
        "\n",
        "from sklearn.metrics import f1_score"
      ]
    },
    {
      "cell_type": "code",
      "execution_count": 2,
      "id": "ef1fa400",
      "metadata": {
        "papermill": {
          "duration": 0.05401,
          "end_time": "2023-01-27T16:16:54.281004",
          "exception": false,
          "start_time": "2023-01-27T16:16:54.226994",
          "status": "completed"
        },
        "tags": [],
        "id": "ef1fa400"
      },
      "outputs": [],
      "source": [
        "#DIR_PATH = r\"/home/ubuntu/Kaggle2/Data/spam.csv\"\n",
        "DIR_PATH = r\"/content/spam.csv\"\n",
        "data = pd.read_csv(DIR_PATH, encoding = \"latin-1\")"
      ]
    },
    {
      "cell_type": "code",
      "execution_count": 3,
      "id": "56de3c0c",
      "metadata": {
        "papermill": {
          "duration": 0.033895,
          "end_time": "2023-01-27T16:16:54.320456",
          "exception": false,
          "start_time": "2023-01-27T16:16:54.286561",
          "status": "completed"
        },
        "tags": [],
        "colab": {
          "base_uri": "https://localhost:8080/",
          "height": 206
        },
        "id": "56de3c0c",
        "outputId": "8ecd44cd-0593-43df-b497-dbae34cdd938"
      },
      "outputs": [
        {
          "output_type": "execute_result",
          "data": {
            "text/plain": [
              "     v1                                                 v2 Unnamed: 2  \\\n",
              "0   ham  Go until jurong point, crazy.. Available only ...        NaN   \n",
              "1   ham                      Ok lar... Joking wif u oni...        NaN   \n",
              "2  spam  Free entry in 2 a wkly comp to win FA Cup fina...        NaN   \n",
              "3   ham  U dun say so early hor... U c already then say...        NaN   \n",
              "4   ham  Nah I don't think he goes to usf, he lives aro...        NaN   \n",
              "\n",
              "  Unnamed: 3 Unnamed: 4  \n",
              "0        NaN        NaN  \n",
              "1        NaN        NaN  \n",
              "2        NaN        NaN  \n",
              "3        NaN        NaN  \n",
              "4        NaN        NaN  "
            ],
            "text/html": [
              "\n",
              "  <div id=\"df-600e04cd-9b6a-42d7-8738-9c00b69b024f\">\n",
              "    <div class=\"colab-df-container\">\n",
              "      <div>\n",
              "<style scoped>\n",
              "    .dataframe tbody tr th:only-of-type {\n",
              "        vertical-align: middle;\n",
              "    }\n",
              "\n",
              "    .dataframe tbody tr th {\n",
              "        vertical-align: top;\n",
              "    }\n",
              "\n",
              "    .dataframe thead th {\n",
              "        text-align: right;\n",
              "    }\n",
              "</style>\n",
              "<table border=\"1\" class=\"dataframe\">\n",
              "  <thead>\n",
              "    <tr style=\"text-align: right;\">\n",
              "      <th></th>\n",
              "      <th>v1</th>\n",
              "      <th>v2</th>\n",
              "      <th>Unnamed: 2</th>\n",
              "      <th>Unnamed: 3</th>\n",
              "      <th>Unnamed: 4</th>\n",
              "    </tr>\n",
              "  </thead>\n",
              "  <tbody>\n",
              "    <tr>\n",
              "      <th>0</th>\n",
              "      <td>ham</td>\n",
              "      <td>Go until jurong point, crazy.. Available only ...</td>\n",
              "      <td>NaN</td>\n",
              "      <td>NaN</td>\n",
              "      <td>NaN</td>\n",
              "    </tr>\n",
              "    <tr>\n",
              "      <th>1</th>\n",
              "      <td>ham</td>\n",
              "      <td>Ok lar... Joking wif u oni...</td>\n",
              "      <td>NaN</td>\n",
              "      <td>NaN</td>\n",
              "      <td>NaN</td>\n",
              "    </tr>\n",
              "    <tr>\n",
              "      <th>2</th>\n",
              "      <td>spam</td>\n",
              "      <td>Free entry in 2 a wkly comp to win FA Cup fina...</td>\n",
              "      <td>NaN</td>\n",
              "      <td>NaN</td>\n",
              "      <td>NaN</td>\n",
              "    </tr>\n",
              "    <tr>\n",
              "      <th>3</th>\n",
              "      <td>ham</td>\n",
              "      <td>U dun say so early hor... U c already then say...</td>\n",
              "      <td>NaN</td>\n",
              "      <td>NaN</td>\n",
              "      <td>NaN</td>\n",
              "    </tr>\n",
              "    <tr>\n",
              "      <th>4</th>\n",
              "      <td>ham</td>\n",
              "      <td>Nah I don't think he goes to usf, he lives aro...</td>\n",
              "      <td>NaN</td>\n",
              "      <td>NaN</td>\n",
              "      <td>NaN</td>\n",
              "    </tr>\n",
              "  </tbody>\n",
              "</table>\n",
              "</div>\n",
              "      <button class=\"colab-df-convert\" onclick=\"convertToInteractive('df-600e04cd-9b6a-42d7-8738-9c00b69b024f')\"\n",
              "              title=\"Convert this dataframe to an interactive table.\"\n",
              "              style=\"display:none;\">\n",
              "        \n",
              "  <svg xmlns=\"http://www.w3.org/2000/svg\" height=\"24px\"viewBox=\"0 0 24 24\"\n",
              "       width=\"24px\">\n",
              "    <path d=\"M0 0h24v24H0V0z\" fill=\"none\"/>\n",
              "    <path d=\"M18.56 5.44l.94 2.06.94-2.06 2.06-.94-2.06-.94-.94-2.06-.94 2.06-2.06.94zm-11 1L8.5 8.5l.94-2.06 2.06-.94-2.06-.94L8.5 2.5l-.94 2.06-2.06.94zm10 10l.94 2.06.94-2.06 2.06-.94-2.06-.94-.94-2.06-.94 2.06-2.06.94z\"/><path d=\"M17.41 7.96l-1.37-1.37c-.4-.4-.92-.59-1.43-.59-.52 0-1.04.2-1.43.59L10.3 9.45l-7.72 7.72c-.78.78-.78 2.05 0 2.83L4 21.41c.39.39.9.59 1.41.59.51 0 1.02-.2 1.41-.59l7.78-7.78 2.81-2.81c.8-.78.8-2.07 0-2.86zM5.41 20L4 18.59l7.72-7.72 1.47 1.35L5.41 20z\"/>\n",
              "  </svg>\n",
              "      </button>\n",
              "      \n",
              "  <style>\n",
              "    .colab-df-container {\n",
              "      display:flex;\n",
              "      flex-wrap:wrap;\n",
              "      gap: 12px;\n",
              "    }\n",
              "\n",
              "    .colab-df-convert {\n",
              "      background-color: #E8F0FE;\n",
              "      border: none;\n",
              "      border-radius: 50%;\n",
              "      cursor: pointer;\n",
              "      display: none;\n",
              "      fill: #1967D2;\n",
              "      height: 32px;\n",
              "      padding: 0 0 0 0;\n",
              "      width: 32px;\n",
              "    }\n",
              "\n",
              "    .colab-df-convert:hover {\n",
              "      background-color: #E2EBFA;\n",
              "      box-shadow: 0px 1px 2px rgba(60, 64, 67, 0.3), 0px 1px 3px 1px rgba(60, 64, 67, 0.15);\n",
              "      fill: #174EA6;\n",
              "    }\n",
              "\n",
              "    [theme=dark] .colab-df-convert {\n",
              "      background-color: #3B4455;\n",
              "      fill: #D2E3FC;\n",
              "    }\n",
              "\n",
              "    [theme=dark] .colab-df-convert:hover {\n",
              "      background-color: #434B5C;\n",
              "      box-shadow: 0px 1px 3px 1px rgba(0, 0, 0, 0.15);\n",
              "      filter: drop-shadow(0px 1px 2px rgba(0, 0, 0, 0.3));\n",
              "      fill: #FFFFFF;\n",
              "    }\n",
              "  </style>\n",
              "\n",
              "      <script>\n",
              "        const buttonEl =\n",
              "          document.querySelector('#df-600e04cd-9b6a-42d7-8738-9c00b69b024f button.colab-df-convert');\n",
              "        buttonEl.style.display =\n",
              "          google.colab.kernel.accessAllowed ? 'block' : 'none';\n",
              "\n",
              "        async function convertToInteractive(key) {\n",
              "          const element = document.querySelector('#df-600e04cd-9b6a-42d7-8738-9c00b69b024f');\n",
              "          const dataTable =\n",
              "            await google.colab.kernel.invokeFunction('convertToInteractive',\n",
              "                                                     [key], {});\n",
              "          if (!dataTable) return;\n",
              "\n",
              "          const docLinkHtml = 'Like what you see? Visit the ' +\n",
              "            '<a target=\"_blank\" href=https://colab.research.google.com/notebooks/data_table.ipynb>data table notebook</a>'\n",
              "            + ' to learn more about interactive tables.';\n",
              "          element.innerHTML = '';\n",
              "          dataTable['output_type'] = 'display_data';\n",
              "          await google.colab.output.renderOutput(dataTable, element);\n",
              "          const docLink = document.createElement('div');\n",
              "          docLink.innerHTML = docLinkHtml;\n",
              "          element.appendChild(docLink);\n",
              "        }\n",
              "      </script>\n",
              "    </div>\n",
              "  </div>\n",
              "  "
            ]
          },
          "metadata": {},
          "execution_count": 3
        }
      ],
      "source": [
        "data.head()"
      ]
    },
    {
      "cell_type": "code",
      "execution_count": 4,
      "id": "2acb0a8d",
      "metadata": {
        "papermill": {
          "duration": 0.020633,
          "end_time": "2023-01-27T16:16:54.346527",
          "exception": false,
          "start_time": "2023-01-27T16:16:54.325894",
          "status": "completed"
        },
        "tags": [],
        "id": "2acb0a8d"
      },
      "outputs": [],
      "source": [
        "data.drop([data.columns[col] for col in range(2,5)],axis=1,inplace=True)"
      ]
    },
    {
      "cell_type": "code",
      "execution_count": null,
      "id": "c7a64f79",
      "metadata": {
        "papermill": {
          "duration": 0.023088,
          "end_time": "2023-01-27T16:16:54.374962",
          "exception": false,
          "start_time": "2023-01-27T16:16:54.351874",
          "status": "completed"
        },
        "tags": [],
        "id": "c7a64f79",
        "outputId": "09d6841b-3fd1-430b-db19-bb2bd3ba34b2"
      },
      "outputs": [
        {
          "data": {
            "text/html": [
              "<div>\n",
              "<style scoped>\n",
              "    .dataframe tbody tr th:only-of-type {\n",
              "        vertical-align: middle;\n",
              "    }\n",
              "\n",
              "    .dataframe tbody tr th {\n",
              "        vertical-align: top;\n",
              "    }\n",
              "\n",
              "    .dataframe thead th {\n",
              "        text-align: right;\n",
              "    }\n",
              "</style>\n",
              "<table border=\"1\" class=\"dataframe\">\n",
              "  <thead>\n",
              "    <tr style=\"text-align: right;\">\n",
              "      <th></th>\n",
              "      <th>v1</th>\n",
              "      <th>v2</th>\n",
              "    </tr>\n",
              "  </thead>\n",
              "  <tbody>\n",
              "    <tr>\n",
              "      <th>0</th>\n",
              "      <td>ham</td>\n",
              "      <td>Go until jurong point, crazy.. Available only ...</td>\n",
              "    </tr>\n",
              "    <tr>\n",
              "      <th>1</th>\n",
              "      <td>ham</td>\n",
              "      <td>Ok lar... Joking wif u oni...</td>\n",
              "    </tr>\n",
              "    <tr>\n",
              "      <th>2</th>\n",
              "      <td>spam</td>\n",
              "      <td>Free entry in 2 a wkly comp to win FA Cup fina...</td>\n",
              "    </tr>\n",
              "    <tr>\n",
              "      <th>3</th>\n",
              "      <td>ham</td>\n",
              "      <td>U dun say so early hor... U c already then say...</td>\n",
              "    </tr>\n",
              "    <tr>\n",
              "      <th>4</th>\n",
              "      <td>ham</td>\n",
              "      <td>Nah I don't think he goes to usf, he lives aro...</td>\n",
              "    </tr>\n",
              "    <tr>\n",
              "      <th>...</th>\n",
              "      <td>...</td>\n",
              "      <td>...</td>\n",
              "    </tr>\n",
              "    <tr>\n",
              "      <th>5567</th>\n",
              "      <td>spam</td>\n",
              "      <td>This is the 2nd time we have tried 2 contact u...</td>\n",
              "    </tr>\n",
              "    <tr>\n",
              "      <th>5568</th>\n",
              "      <td>ham</td>\n",
              "      <td>Will Ì_ b going to esplanade fr home?</td>\n",
              "    </tr>\n",
              "    <tr>\n",
              "      <th>5569</th>\n",
              "      <td>ham</td>\n",
              "      <td>Pity, * was in mood for that. So...any other s...</td>\n",
              "    </tr>\n",
              "    <tr>\n",
              "      <th>5570</th>\n",
              "      <td>ham</td>\n",
              "      <td>The guy did some bitching but I acted like i'd...</td>\n",
              "    </tr>\n",
              "    <tr>\n",
              "      <th>5571</th>\n",
              "      <td>ham</td>\n",
              "      <td>Rofl. Its true to its name</td>\n",
              "    </tr>\n",
              "  </tbody>\n",
              "</table>\n",
              "<p>5572 rows × 2 columns</p>\n",
              "</div>"
            ],
            "text/plain": [
              "        v1                                                 v2\n",
              "0      ham  Go until jurong point, crazy.. Available only ...\n",
              "1      ham                      Ok lar... Joking wif u oni...\n",
              "2     spam  Free entry in 2 a wkly comp to win FA Cup fina...\n",
              "3      ham  U dun say so early hor... U c already then say...\n",
              "4      ham  Nah I don't think he goes to usf, he lives aro...\n",
              "...    ...                                                ...\n",
              "5567  spam  This is the 2nd time we have tried 2 contact u...\n",
              "5568   ham              Will Ì_ b going to esplanade fr home?\n",
              "5569   ham  Pity, * was in mood for that. So...any other s...\n",
              "5570   ham  The guy did some bitching but I acted like i'd...\n",
              "5571   ham                         Rofl. Its true to its name\n",
              "\n",
              "[5572 rows x 2 columns]"
            ]
          },
          "execution_count": 6,
          "metadata": {},
          "output_type": "execute_result"
        }
      ],
      "source": [
        "data"
      ]
    },
    {
      "cell_type": "code",
      "execution_count": null,
      "id": "02e413a7",
      "metadata": {
        "papermill": {
          "duration": 0.428693,
          "end_time": "2023-01-27T16:16:54.809357",
          "exception": false,
          "start_time": "2023-01-27T16:16:54.380664",
          "status": "completed"
        },
        "tags": [],
        "id": "02e413a7",
        "outputId": "51bfb3f2-90f3-4f4e-cb71-48eae03b9946"
      },
      "outputs": [
        {
          "data": {
            "text/plain": [
              "<AxesSubplot:xlabel='v1', ylabel='count'>"
            ]
          },
          "execution_count": 7,
          "metadata": {},
          "output_type": "execute_result"
        },
        {
          "data": {
            "image/png": "[encoded data removed]",
            "text/plain": [
              "<Figure size 720x720 with 1 Axes>"
            ]
          },
          "metadata": {
            "needs_background": "light"
          },
          "output_type": "display_data"
        }
      ],
      "source": [
        "import matplotlib.pyplot as plt\n",
        "import seaborn as sns\n",
        "\n",
        "plt.figure(figsize = (10,10))\n",
        "sns.countplot(data = data, x= 'v1' )"
      ]
    },
    {
      "cell_type": "code",
      "execution_count": null,
      "id": "a7fa345b",
      "metadata": {
        "papermill": {
          "duration": 0.016847,
          "end_time": "2023-01-27T16:16:54.832647",
          "exception": false,
          "start_time": "2023-01-27T16:16:54.815800",
          "status": "completed"
        },
        "tags": [],
        "id": "a7fa345b"
      },
      "outputs": [],
      "source": [
        "#Encode labels based on the class written in text.\n",
        "encoder = LabelEncoder()\n",
        "data['v1'] = encoder.fit_transform(data[\"v1\"])"
      ]
    },
    {
      "cell_type": "code",
      "execution_count": null,
      "id": "6e9187a2",
      "metadata": {
        "papermill": {
          "duration": 0.014017,
          "end_time": "2023-01-27T16:16:54.885139",
          "exception": false,
          "start_time": "2023-01-27T16:16:54.871122",
          "status": "completed"
        },
        "tags": [],
        "id": "6e9187a2"
      },
      "outputs": [],
      "source": [
        "y = data['v1']\n",
        "data = data.drop('v1',axis = 1)"
      ]
    },
    {
      "cell_type": "code",
      "execution_count": null,
      "id": "de3079f6-3d17-43b1-a956-7c0255948280",
      "metadata": {
        "tags": [],
        "id": "de3079f6-3d17-43b1-a956-7c0255948280",
        "outputId": "1b57b68d-b31d-4f04-a64c-7f68e86a91f8"
      },
      "outputs": [
        {
          "name": "stdout",
          "output_type": "stream",
          "text": [
            "                                                     v2\n",
            "5567  This is the 2nd time we have tried 2 contact u...\n",
            "5568              Will Ì_ b going to esplanade fr home?\n",
            "5569  Pity, * was in mood for that. So...any other s...\n",
            "5570  The guy did some bitching but I acted like i'd...\n",
            "5571                         Rofl. Its true to its name 5567    1\n",
            "5568    0\n",
            "5569    0\n",
            "5570    0\n",
            "5571    0\n",
            "Name: v1, dtype: int64\n"
          ]
        }
      ],
      "source": [
        "print(data[-5:], y[-5:])"
      ]
    },
    {
      "cell_type": "code",
      "execution_count": null,
      "id": "385a6607",
      "metadata": {
        "papermill": {
          "duration": 0.017021,
          "end_time": "2023-01-27T16:16:54.930504",
          "exception": false,
          "start_time": "2023-01-27T16:16:54.913483",
          "status": "completed"
        },
        "tags": [],
        "id": "385a6607"
      },
      "outputs": [],
      "source": [
        "X_train, X_test, y_train, y_test = train_test_split(data, y, train_size = 0.8)"
      ]
    },
    {
      "cell_type": "code",
      "execution_count": null,
      "id": "1160ec7b",
      "metadata": {
        "papermill": {
          "duration": 0.148664,
          "end_time": "2023-01-27T16:16:55.085198",
          "exception": false,
          "start_time": "2023-01-27T16:16:54.936534",
          "status": "completed"
        },
        "tags": [],
        "id": "1160ec7b"
      },
      "outputs": [],
      "source": [
        "vect=TfidfVectorizer(min_df=1, stop_words='english', lowercase=True)\n",
        "\n",
        "X_tr_f = vect.fit_transform(X_train['v2'])\n",
        "X_te_f = vect.transform(X_test['v2'])"
      ]
    },
    {
      "cell_type": "code",
      "execution_count": null,
      "id": "bf719f42",
      "metadata": {
        "papermill": {
          "duration": 0.020433,
          "end_time": "2023-01-27T16:16:55.112033",
          "exception": false,
          "start_time": "2023-01-27T16:16:55.091600",
          "status": "completed"
        },
        "tags": [],
        "id": "bf719f42",
        "outputId": "5757857f-d767-481e-9464-90d44c33bda5"
      },
      "outputs": [
        {
          "name": "stdout",
          "output_type": "stream",
          "text": [
            "  (0, 2840)\t1.0\n",
            "  (1, 3355)\t0.2880945208813639\n",
            "  (1, 7183)\t0.35922904194253397\n",
            "  (1, 3979)\t0.33920693537831287\n",
            "  (1, 1844)\t0.4252343934149764\n",
            "  (1, 1955)\t0.37325872200889454\n",
            "  (1, 4964)\t0.35182368203958536\n",
            "  (1, 4722)\t0.47850645900743305\n",
            "  (2, 4578)\t0.2220662404078283\n",
            "  (2, 7296)\t0.2514247546962065\n",
            "  (2, 6172)\t0.4271997038078028\n",
            "  (2, 2240)\t0.23630228520881044\n",
            "  (2, 4425)\t0.32520115504980823\n",
            "  (2, 4947)\t0.3592006713024731\n",
            "  (2, 3022)\t0.2755811860122965\n",
            "  (2, 7299)\t0.3033103560611836\n",
            "  (2, 7427)\t0.4271997038078028\n",
            "  (2, 2341)\t0.2528065625086646\n",
            "  (3, 851)\t0.3353429856209064\n",
            "  (3, 6510)\t0.2382908960972915\n",
            "  (3, 1062)\t0.5157598242219225\n",
            "  (3, 3249)\t0.3240562392848607\n",
            "  (3, 6295)\t0.3941759120645524\n",
            "  (3, 6599)\t0.29027699413245117\n",
            "  (3, 4084)\t0.23602232521386254\n",
            "  :\t:\n",
            "  (4453, 4349)\t0.1760109184268071\n",
            "  (4453, 3311)\t0.15332132125821404\n",
            "  (4453, 6028)\t0.1806792152799875\n",
            "  (4454, 2272)\t0.6243705530633936\n",
            "  (4454, 853)\t0.5106409583094634\n",
            "  (4454, 5990)\t0.5911067789867622\n",
            "  (4455, 287)\t0.30759506103664863\n",
            "  (4455, 508)\t0.30759506103664863\n",
            "  (4455, 308)\t0.30759506103664863\n",
            "  (4455, 61)\t0.30759506103664863\n",
            "  (4455, 733)\t0.29903262660227703\n",
            "  (4455, 2894)\t0.286121559049181\n",
            "  (4455, 5524)\t0.2809977103538277\n",
            "  (4455, 540)\t0.24988080481786673\n",
            "  (4455, 5812)\t0.21067814011944255\n",
            "  (4455, 2076)\t0.21224455622020533\n",
            "  (4455, 266)\t0.23027947246865463\n",
            "  (4455, 3157)\t0.2202120660874514\n",
            "  (4455, 5235)\t0.2006107337382393\n",
            "  (4455, 1624)\t0.2018099521475781\n",
            "  (4455, 7282)\t0.1921665485990848\n",
            "  (4456, 6368)\t0.5868297469394689\n",
            "  (4456, 5904)\t0.5555659853352932\n",
            "  (4456, 7404)\t0.47085647025865934\n",
            "  (4456, 6093)\t0.3539370967572342\n"
          ]
        }
      ],
      "source": [
        "print(X_tr_f)"
      ]
    },
    {
      "cell_type": "markdown",
      "id": "fe8a5705-245c-43aa-9289-aa412d5f2b08",
      "metadata": {
        "id": "fe8a5705-245c-43aa-9289-aa412d5f2b08"
      },
      "source": [
        "## Training with Logistic Regression, SVM, and MLP"
      ]
    },
    {
      "cell_type": "code",
      "execution_count": null,
      "id": "7ebb4654",
      "metadata": {
        "papermill": {
          "duration": 0.097044,
          "end_time": "2023-01-27T16:16:55.215053",
          "exception": false,
          "start_time": "2023-01-27T16:16:55.118009",
          "status": "completed"
        },
        "tags": [],
        "id": "7ebb4654",
        "outputId": "7fc6622a-889b-42ec-a5ba-ea81d7f04b22"
      },
      "outputs": [
        {
          "data": {
            "text/plain": [
              "LogisticRegression()"
            ]
          },
          "execution_count": 27,
          "metadata": {},
          "output_type": "execute_result"
        }
      ],
      "source": [
        "Log = LogisticRegression()\n",
        "Log.fit(X_tr_f, y_train)"
      ]
    },
    {
      "cell_type": "code",
      "execution_count": null,
      "id": "4fd811e5",
      "metadata": {
        "papermill": {
          "duration": 1.71498,
          "end_time": "2023-01-27T16:16:56.936093",
          "exception": false,
          "start_time": "2023-01-27T16:16:55.221113",
          "status": "completed"
        },
        "tags": [],
        "id": "4fd811e5",
        "outputId": "ceeaa709-c7b3-4079-e721-35cfe5e20254"
      },
      "outputs": [
        {
          "data": {
            "text/plain": [
              "SVC()"
            ]
          },
          "execution_count": 28,
          "metadata": {},
          "output_type": "execute_result"
        }
      ],
      "source": [
        "sv = SVC()\n",
        "sv.fit(X_tr_f, y_train)"
      ]
    },
    {
      "cell_type": "code",
      "execution_count": null,
      "id": "8a340a3c",
      "metadata": {
        "papermill": {
          "duration": 24.630696,
          "end_time": "2023-01-27T16:17:21.574219",
          "exception": false,
          "start_time": "2023-01-27T16:16:56.943523",
          "status": "completed"
        },
        "tags": [],
        "id": "8a340a3c",
        "outputId": "a825a10b-6ded-40d7-84dd-e54ab93f88b9"
      },
      "outputs": [
        {
          "data": {
            "text/plain": [
              "MLPClassifier(hidden_layer_sizes=(128, 128))"
            ]
          },
          "execution_count": 30,
          "metadata": {},
          "output_type": "execute_result"
        }
      ],
      "source": [
        "nn = MLPClassifier(hidden_layer_sizes=(128,128))\n",
        "nn.fit(X_tr_f, y_train)"
      ]
    },
    {
      "cell_type": "markdown",
      "id": "8f71587c-53fe-4c68-8c67-982f82d63bde",
      "metadata": {
        "id": "8f71587c-53fe-4c68-8c67-982f82d63bde"
      },
      "source": [
        "## Test"
      ]
    },
    {
      "cell_type": "code",
      "execution_count": null,
      "id": "8215c14a",
      "metadata": {
        "papermill": {
          "duration": 0.278704,
          "end_time": "2023-01-27T16:17:21.869345",
          "exception": false,
          "start_time": "2023-01-27T16:17:21.590641",
          "status": "completed"
        },
        "tags": [],
        "id": "8215c14a"
      },
      "outputs": [],
      "source": [
        "log_pre = Log.predict(X_te_f)\n",
        "sv_pre = sv.predict(X_te_f)\n",
        "nn_pre = nn.predict(X_te_f)"
      ]
    },
    {
      "cell_type": "code",
      "execution_count": null,
      "id": "ffa68cf7",
      "metadata": {
        "papermill": {
          "duration": 0.313184,
          "end_time": "2023-01-27T16:17:22.199186",
          "exception": false,
          "start_time": "2023-01-27T16:17:21.886002",
          "status": "completed"
        },
        "tags": [],
        "id": "ffa68cf7",
        "outputId": "7328f44b-c4d1-4558-a2a7-bb4540c30652"
      },
      "outputs": [
        {
          "name": "stdout",
          "output_type": "stream",
          "text": [
            "accuracy of Logistic Regression : 0.968609865470852 \n",
            "accuracy of SVM : 0.9811659192825112 \n",
            "accuracy of Neural Network : 0.9874439461883409 \n"
          ]
        }
      ],
      "source": [
        "print(f'accuracy of Logistic Regression : {Log.score(X_te_f,y_test)} ')\n",
        "print(f'accuracy of SVM : {sv.score(X_te_f,y_test)} ')\n",
        "print(f'accuracy of Neural Network : {nn.score(X_te_f,y_test)} ')"
      ]
    },
    {
      "cell_type": "code",
      "execution_count": null,
      "id": "06f4661d",
      "metadata": {
        "papermill": {
          "duration": 0.04143,
          "end_time": "2023-01-27T16:17:22.256769",
          "exception": false,
          "start_time": "2023-01-27T16:17:22.215339",
          "status": "completed"
        },
        "tags": [],
        "id": "06f4661d",
        "outputId": "b150b114-1915-4268-a8b4-75f08b34024f"
      },
      "outputs": [
        {
          "name": "stdout",
          "output_type": "stream",
          "text": [
            "F1 score of Logistic Regression : 0.8627450980392156 \n",
            "F1 score of SVM : 0.9219330855018587 \n",
            "F1 score of Neural Network : 0.949640287769784 \n"
          ]
        }
      ],
      "source": [
        "print(f'F1 score of Logistic Regression : {f1_score(y_test,log_pre)} ')\n",
        "print(f'F1 score of SVM : {f1_score(y_test,sv_pre)} ')\n",
        "print(f'F1 score of Neural Network : {f1_score(y_test,nn_pre)} ')"
      ]
    },
    {
      "cell_type": "code",
      "execution_count": null,
      "id": "a43f5e5b-5feb-4d94-a4ae-5f1be28fcb2e",
      "metadata": {
        "id": "a43f5e5b-5feb-4d94-a4ae-5f1be28fcb2e"
      },
      "outputs": [],
      "source": []
    }
  ],
  "metadata": {
    "kernelspec": {
      "display_name": "tf2_py38",
      "language": "python",
      "name": "tf2_py38"
    },
    "language_info": {
      "codemirror_mode": {
        "name": "ipython",
        "version": 3
      },
      "file_extension": ".py",
      "mimetype": "text/x-python",
      "name": "python",
      "nbconvert_exporter": "python",
      "pygments_lexer": "ipython3",
      "version": "3.8.5"
    },
    "papermill": {
      "default_parameters": {},
      "duration": 38.956562,
      "end_time": "2023-01-27T16:17:23.006721",
      "environment_variables": {},
      "exception": null,
      "input_path": "__notebook__.ipynb",
      "output_path": "__notebook__.ipynb",
      "parameters": {},
      "start_time": "2023-01-27T16:16:44.050159",
      "version": "2.3.4"
    },
    "colab": {
      "provenance": [],
      "include_colab_link": true
    },
    "accelerator": "GPU",
    "gpuClass": "standard"
  },
  "nbformat": 4,
  "nbformat_minor": 5
}